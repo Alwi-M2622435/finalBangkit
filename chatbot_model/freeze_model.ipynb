{
 "cells": [
  {
   "cell_type": "code",
   "execution_count": 1,
   "id": "69ce41ad",
   "metadata": {},
   "outputs": [],
   "source": [
    "import tensorflow as tf\n",
    "# import os\n",
    "# import argparse\n",
    "# from tensorflow.python.framework import graph_util\n",
    "\n",
    "tf.compat.v1.reset_default_graph()"
   ]
  },
  {
   "cell_type": "code",
   "execution_count": 2,
   "id": "2dfde147",
   "metadata": {},
   "outputs": [
    {
     "name": "stdout",
     "output_type": "stream",
     "text": [
      "INFO:tensorflow:Restoring parameters from C:\\Users\\Noeroel Nabilah\\Desktop\\Folder Desktop\\Bangkit\\Final Project\\ML-Chatbot\\chatbot_model\\model.tflearn\n",
      "WARNING:tensorflow:From <ipython-input-2-3c69b3a28f2f>:4: convert_variables_to_constants (from tensorflow.python.framework.graph_util_impl) is deprecated and will be removed in a future version.\n",
      "Instructions for updating:\n",
      "Use `tf.compat.v1.graph_util.convert_variables_to_constants`\n",
      "WARNING:tensorflow:From c:\\users\\noeroel nabilah\\appdata\\local\\programs\\python\\python38\\lib\\site-packages\\tensorflow\\python\\framework\\convert_to_constants.py:863: extract_sub_graph (from tensorflow.python.framework.graph_util_impl) is deprecated and will be removed in a future version.\n",
      "Instructions for updating:\n",
      "Use `tf.compat.v1.graph_util.extract_sub_graph`\n"
     ]
    }
   ],
   "source": [
    "with tf.compat.v1.Session() as session:\n",
    "    my_saver = tf.compat.v1.train.import_meta_graph('model.tflearn.meta')\n",
    "    my_saver.restore(session, tf.train.latest_checkpoint('.'))\n",
    "    frozen_graph = tf.compat.v1.graph_util.convert_variables_to_constants(\n",
    "        session,\n",
    "        session.graph_def,\n",
    "        ['my_output/Softmax']\n",
    "    )\n",
    "\n",
    "with open('frozen_model.pb', 'wb') as f:\n",
    "    f.write(frozen_graph.SerializeToString())"
   ]
  },
  {
   "cell_type": "code",
   "execution_count": null,
   "id": "8da2fe1c",
   "metadata": {},
   "outputs": [],
   "source": []
  }
 ],
 "metadata": {
  "kernelspec": {
   "display_name": "Python 3",
   "language": "python",
   "name": "python3"
  },
  "language_info": {
   "codemirror_mode": {
    "name": "ipython",
    "version": 3
   },
   "file_extension": ".py",
   "mimetype": "text/x-python",
   "name": "python",
   "nbconvert_exporter": "python",
   "pygments_lexer": "ipython3",
   "version": "3.8.10"
  }
 },
 "nbformat": 4,
 "nbformat_minor": 5
}
