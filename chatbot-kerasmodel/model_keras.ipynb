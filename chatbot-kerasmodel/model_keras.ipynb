{
 "cells": [
  {
   "cell_type": "code",
   "execution_count": 1,
   "id": "d28d1ad6",
   "metadata": {},
   "outputs": [
    {
     "data": {
      "text/plain": [
       "True"
      ]
     },
     "execution_count": 1,
     "metadata": {},
     "output_type": "execute_result"
    }
   ],
   "source": [
    "import tensorflow as tf\n",
    "tf.executing_eagerly()"
   ]
  },
  {
   "cell_type": "code",
   "execution_count": 47,
   "id": "cb6353f0",
   "metadata": {},
   "outputs": [
    {
     "name": "stdout",
     "output_type": "stream",
     "text": [
      "2.6.0-dev20210528\n"
     ]
    }
   ],
   "source": [
    "#Used in Tensorflow Model\n",
    "import numpy as np\n",
    "import tflearn\n",
    "import random\n",
    "import pandas as pd\n",
    "\n",
    "#Used to for Contextualisation and Other NLP Tasks.\n",
    "import nltk\n",
    "from nltk.stem.lancaster import LancasterStemmer\n",
    "stemmer = LancasterStemmer()\n",
    "\n",
    "#Other\n",
    "import json\n",
    "import pickle\n",
    "import warnings\n",
    "from tensorflow.keras.models import Sequential, load_model\n",
    "from tensorflow.keras.layers import Dense, Activation, Dropout\n",
    "from tensorflow.keras.optimizers import SGD\n",
    "warnings.filterwarnings(\"ignore\")\n",
    "print(tf.__version__)"
   ]
  },
  {
   "cell_type": "code",
   "execution_count": 3,
   "id": "d2b54d8e",
   "metadata": {},
   "outputs": [
    {
     "name": "stdout",
     "output_type": "stream",
     "text": [
      "Processing the Intents.....\n"
     ]
    }
   ],
   "source": [
    "print(\"Processing the Intents.....\")\n",
    "with open('intents.json') as json_data:\n",
    "    intents = json.load(json_data)"
   ]
  },
  {
   "cell_type": "code",
   "execution_count": 4,
   "id": "3670a2a7",
   "metadata": {},
   "outputs": [
    {
     "name": "stdout",
     "output_type": "stream",
     "text": [
      "Looping through the Intents to Convert them to words, classes, documents and ignore_words.......\n"
     ]
    }
   ],
   "source": [
    "words = []\n",
    "classes = []\n",
    "documents = []\n",
    "ignore_words = ['?']\n",
    "print(\"Looping through the Intents to Convert them to words, classes, documents and ignore_words.......\")\n",
    "for intent in intents['intents']:\n",
    "    for pattern in intent['patterns']:\n",
    "        # tokenize each word in the sentence\n",
    "        w = nltk.word_tokenize(pattern)\n",
    "        # add to our words list\n",
    "        words.extend(w)\n",
    "        # add to documents in our corpus\n",
    "        documents.append((w, intent['tag']))\n",
    "        # add to our classes list\n",
    "        if intent['tag'] not in classes:\n",
    "            classes.append(intent['tag'])"
   ]
  },
  {
   "cell_type": "code",
   "execution_count": 5,
   "id": "2dfc7865",
   "metadata": {},
   "outputs": [
    {
     "name": "stdout",
     "output_type": "stream",
     "text": [
      "Stemming, Lowering and Removing Duplicates.......\n",
      "51 documents\n",
      "8 classes ['goodbye', 'greeting', 'jokes', 'kosong', 'moodbaik', 'moodburuk', 'perkenalan', 'thanks']\n",
      "86 unique stemmed words ['!', ',', 'ad', 'aj', 'akhirny', 'aku', 'antusia', 'ap', 'apakah', 'bahag', 'banget', 'banyak', 'bersemang', 'bersyuk', 'bis', 'boleh', 'bro', 'capek', 'cer', 'dadah', 'deng', 'dengerin', 'dir', 'dulu', 'feel', 'ga', 'galau', 'good', 'hai', 'hal', 'halo', 'har', 'hello', 'hey', 'hi', 'in', 'ingin', 'itu', 'iâ€™m', 'jad', 'jok', 'jug', 'jump', 'kab', 'kamu', 'kasih', 'kegy', 'ken', 'kesel', 'kurang', 'lag', 'lelucon', 'lib', 'lucu', 'makasih', 'mau', 'membantu', 'menyelesaik', 'nam', 'nang', 'nyerah', 'obrol', 'orang', 'overthink', 'percay', 'perkenalk', 'rasany', 'sampa', 'sang', 'selesa', 'semang', 'senang', 'siap', 'stress', 'sudah', 'terim', 'terimakasih', 'terserah', 'thank', 'tid', 'tugasku', 'up', 'what', 'ya', 'yang', 'ye']\n"
     ]
    }
   ],
   "source": [
    "print(\"Stemming, Lowering and Removing Duplicates.......\")\n",
    "words = [stemmer.stem(w.lower()) for w in words if w not in ignore_words]\n",
    "words = sorted(list(set(words)))\n",
    "\n",
    "# remove duplicates\n",
    "classes = sorted(list(set(classes)))\n",
    "\n",
    "print (len(documents), \"documents\")\n",
    "print (len(classes), \"classes\", classes)\n",
    "print (len(words), \"unique stemmed words\", words)"
   ]
  },
  {
   "cell_type": "code",
   "execution_count": 6,
   "id": "b18b933b",
   "metadata": {},
   "outputs": [
    {
     "name": "stdout",
     "output_type": "stream",
     "text": [
      "Creating the Data for our Model.....\n",
      "Creating an List (Empty) for Output.....\n",
      "Creating Traning Set, Bag of Words for our Model....\n"
     ]
    }
   ],
   "source": [
    "print(\"Creating the Data for our Model.....\")\n",
    "training = []\n",
    "output = []\n",
    "print(\"Creating an List (Empty) for Output.....\")\n",
    "output_empty = [0] * len(classes)\n",
    "\n",
    "print(\"Creating Traning Set, Bag of Words for our Model....\")\n",
    "for doc in documents:\n",
    "    # initialize our bag of words\n",
    "    bag = []\n",
    "    # list of tokenized words for the pattern\n",
    "    pattern_words = doc[0]\n",
    "    # stem each word\n",
    "    pattern_words = [stemmer.stem(word.lower()) for word in pattern_words]\n",
    "    # create our bag of words array\n",
    "    for w in words:\n",
    "        bag.append(1) if w in pattern_words else bag.append(0)\n",
    "\n",
    "    # output is a '0' for each tag and '1' for current tag\n",
    "    output_row = list(output_empty)\n",
    "    output_row[classes.index(doc[1])] = 1\n",
    "\n",
    "    training.append([bag, output_row])"
   ]
  },
  {
   "cell_type": "code",
   "execution_count": 7,
   "id": "e6ada4e1",
   "metadata": {},
   "outputs": [
    {
     "name": "stdout",
     "output_type": "stream",
     "text": [
      "Shuffling Randomly and Converting into Numpy Array for Faster Processing......\n",
      "Creating Train and Test Lists.....\n",
      "Building Neural Network for Out Chatbot to be Contextual....\n",
      "Resetting graph data....\n"
     ]
    }
   ],
   "source": [
    "print(\"Shuffling Randomly and Converting into Numpy Array for Faster Processing......\")\n",
    "random.shuffle(training)\n",
    "training = np.array(training)\n",
    "\n",
    "print(\"Creating Train and Test Lists.....\")\n",
    "train_x = list(training[:,0])\n",
    "train_y = list(training[:,1])\n",
    "print(\"Building Neural Network for Out Chatbot to be Contextual....\")\n",
    "print(\"Resetting graph data....\")\n"
   ]
  },
  {
   "cell_type": "code",
   "execution_count": 8,
   "id": "1ebfd13a",
   "metadata": {},
   "outputs": [],
   "source": [
    "# %tensorflow_version 1.x\n",
    "tf.compat.v1.reset_default_graph()"
   ]
  },
  {
   "cell_type": "code",
   "execution_count": 9,
   "id": "7ad27129",
   "metadata": {},
   "outputs": [],
   "source": [
    "# model versi keras\n",
    "model = tf.keras.models.Sequential([\n",
    "    tf.keras.layers.Dense(units=128, input_shape=(len(train_x[0]),), activation='relu'),\n",
    "    tf.keras.layers.Dropout(0.5),\n",
    "    tf.keras.layers.Dense(units=64, activation='relu'),\n",
    "    tf.keras.layers.Dropout(0.5),\n",
    "    tf.keras.layers.Dense(units=32, activation='relu'),\n",
    "    tf.keras.layers.Dropout(0.5),\n",
    "    tf.keras.layers.Dense(units=len(train_y[0]), activation='softmax')\n",
    "])"
   ]
  },
  {
   "cell_type": "code",
   "execution_count": 10,
   "id": "0e1c7744",
   "metadata": {},
   "outputs": [
    {
     "name": "stdout",
     "output_type": "stream",
     "text": [
      "Train on 20 samples\n",
      "Epoch 1/100\n",
      "20/20 [==============================] - 0s 4ms/step - batch: 9.5000 - size: 1.0000 - loss: 2.0697 - acc: 0.1539\n",
      "Epoch 2/100\n",
      "20/20 [==============================] - 0s 4ms/step - batch: 9.5000 - size: 1.0000 - loss: 1.9986 - acc: 0.2088\n",
      "Epoch 3/100\n",
      "20/20 [==============================] - 0s 4ms/step - batch: 9.5000 - size: 1.0000 - loss: 1.9550 - acc: 0.2225\n",
      "Epoch 4/100\n",
      "20/20 [==============================] - 0s 4ms/step - batch: 9.5000 - size: 1.0000 - loss: 1.9138 - acc: 0.2461\n",
      "Epoch 5/100\n",
      "20/20 [==============================] - 0s 4ms/step - batch: 9.5000 - size: 1.0000 - loss: 1.8490 - acc: 0.2931\n",
      "Epoch 6/100\n",
      "20/20 [==============================] - 0s 4ms/step - batch: 9.5000 - size: 1.0000 - loss: 1.7708 - acc: 0.3294\n",
      "Epoch 7/100\n",
      "20/20 [==============================] - 0s 5ms/step - batch: 9.5000 - size: 1.0000 - loss: 1.6789 - acc: 0.3667\n",
      "Epoch 8/100\n",
      "20/20 [==============================] - 0s 4ms/step - batch: 9.5000 - size: 1.0000 - loss: 1.5975 - acc: 0.4255\n",
      "Epoch 9/100\n",
      "20/20 [==============================] - 0s 5ms/step - batch: 9.5000 - size: 1.0000 - loss: 1.5074 - acc: 0.4490\n",
      "Epoch 10/100\n",
      "20/20 [==============================] - 0s 5ms/step - batch: 9.5000 - size: 1.0000 - loss: 1.4087 - acc: 0.4657\n",
      "Epoch 11/100\n",
      "20/20 [==============================] - 0s 5ms/step - batch: 9.5000 - size: 1.0000 - loss: 1.2966 - acc: 0.5196\n",
      "Epoch 12/100\n",
      "20/20 [==============================] - 0s 4ms/step - batch: 9.5000 - size: 1.0000 - loss: 1.2265 - acc: 0.5510\n",
      "Epoch 13/100\n",
      "20/20 [==============================] - 0s 5ms/step - batch: 9.5000 - size: 1.0000 - loss: 1.1319 - acc: 0.5843\n",
      "Epoch 14/100\n",
      "20/20 [==============================] - 0s 5ms/step - batch: 9.5000 - size: 1.0000 - loss: 1.0175 - acc: 0.6529\n",
      "Epoch 15/100\n",
      "20/20 [==============================] - 0s 4ms/step - batch: 9.5000 - size: 1.0000 - loss: 0.9615 - acc: 0.6696\n",
      "Epoch 16/100\n",
      "20/20 [==============================] - 0s 4ms/step - batch: 9.5000 - size: 1.0000 - loss: 0.8588 - acc: 0.7049\n",
      "Epoch 17/100\n",
      "20/20 [==============================] - 0s 4ms/step - batch: 9.5000 - size: 1.0000 - loss: 0.8054 - acc: 0.7206\n",
      "Epoch 18/100\n",
      "20/20 [==============================] - 0s 4ms/step - batch: 9.5000 - size: 1.0000 - loss: 0.7241 - acc: 0.7500\n",
      "Epoch 19/100\n",
      "20/20 [==============================] - 0s 4ms/step - batch: 9.5000 - size: 1.0000 - loss: 0.6557 - acc: 0.7902\n",
      "Epoch 20/100\n",
      "20/20 [==============================] - 0s 4ms/step - batch: 9.5000 - size: 1.0000 - loss: 0.6489 - acc: 0.7922\n",
      "Epoch 21/100\n",
      "20/20 [==============================] - 0s 4ms/step - batch: 9.5000 - size: 1.0000 - loss: 0.5805 - acc: 0.8275\n",
      "Epoch 22/100\n",
      "20/20 [==============================] - 0s 4ms/step - batch: 9.5000 - size: 1.0000 - loss: 0.5281 - acc: 0.8225\n",
      "Epoch 23/100\n",
      "20/20 [==============================] - 0s 5ms/step - batch: 9.5000 - size: 1.0000 - loss: 0.4979 - acc: 0.8480\n",
      "Epoch 24/100\n",
      "20/20 [==============================] - 0s 4ms/step - batch: 9.5000 - size: 1.0000 - loss: 0.4509 - acc: 0.8588\n",
      "Epoch 25/100\n",
      "20/20 [==============================] - 0s 4ms/step - batch: 9.5000 - size: 1.0000 - loss: 0.4278 - acc: 0.8627\n",
      "Epoch 26/100\n",
      "20/20 [==============================] - 0s 4ms/step - batch: 9.5000 - size: 1.0000 - loss: 0.3743 - acc: 0.8784\n",
      "Epoch 27/100\n",
      "20/20 [==============================] - 0s 4ms/step - batch: 9.5000 - size: 1.0000 - loss: 0.3992 - acc: 0.8657\n",
      "Epoch 28/100\n",
      "20/20 [==============================] - ETA: 0s - batch: 6.5000 - size: 1.0000 - loss: 0.3413 - acc: 0.9020   - 0s 4ms/step - batch: 9.5000 - size: 1.0000 - loss: 0.3491 - acc: 0.8931\n",
      "Epoch 29/100\n",
      "20/20 [==============================] - 0s 4ms/step - batch: 9.5000 - size: 1.0000 - loss: 0.3153 - acc: 0.9127\n",
      "Epoch 30/100\n",
      "20/20 [==============================] - ETA: 0s - batch: 6.5000 - size: 1.0000 - loss: 0.3207 - acc: 0.8950   - 0s 4ms/step - batch: 9.5000 - size: 1.0000 - loss: 0.3150 - acc: 0.8980\n",
      "Epoch 31/100\n",
      "20/20 [==============================] - 0s 4ms/step - batch: 9.5000 - size: 1.0000 - loss: 0.3131 - acc: 0.9020\n",
      "Epoch 32/100\n",
      "20/20 [==============================] - 0s 5ms/step - batch: 9.5000 - size: 1.0000 - loss: 0.2977 - acc: 0.9098 ETA: 0s - batch: 3.5000 - size: 1.0000 - loss: 0.2919 - acc: 0.9044  \n",
      "Epoch 33/100\n",
      "20/20 [==============================] - 0s 4ms/step - batch: 9.5000 - size: 1.0000 - loss: 0.2832 - acc: 0.9186\n",
      "Epoch 34/100\n",
      "20/20 [==============================] - 0s 5ms/step - batch: 9.5000 - size: 1.0000 - loss: 0.2438 - acc: 0.9324\n",
      "Epoch 35/100\n",
      "20/20 [==============================] - 0s 5ms/step - batch: 9.5000 - size: 1.0000 - loss: 0.2259 - acc: 0.9402\n",
      "Epoch 36/100\n",
      "20/20 [==============================] - 0s 4ms/step - batch: 9.5000 - size: 1.0000 - loss: 0.2788 - acc: 0.9147\n",
      "Epoch 37/100\n",
      "20/20 [==============================] - 0s 5ms/step - batch: 9.5000 - size: 1.0000 - loss: 0.2713 - acc: 0.9245\n",
      "Epoch 38/100\n",
      "20/20 [==============================] - 0s 4ms/step - batch: 9.5000 - size: 1.0000 - loss: 0.2494 - acc: 0.9284\n",
      "Epoch 39/100\n",
      "20/20 [==============================] - 0s 4ms/step - batch: 9.5000 - size: 1.0000 - loss: 0.2172 - acc: 0.9333\n",
      "Epoch 40/100\n",
      "20/20 [==============================] - ETA: 0s - batch: 6.5000 - size: 1.0000 - loss: 0.2051 - acc: 0.9440   - 0s 4ms/step - batch: 9.5000 - size: 1.0000 - loss: 0.2111 - acc: 0.9392\n",
      "Epoch 41/100\n",
      "20/20 [==============================] - 0s 5ms/step - batch: 9.5000 - size: 1.0000 - loss: 0.1842 - acc: 0.9549\n",
      "Epoch 42/100\n",
      "20/20 [==============================] - 0s 4ms/step - batch: 9.5000 - size: 1.0000 - loss: 0.1978 - acc: 0.9392\n",
      "Epoch 43/100\n",
      "20/20 [==============================] - 0s 4ms/step - batch: 9.5000 - size: 1.0000 - loss: 0.1920 - acc: 0.9529\n",
      "Epoch 44/100\n",
      "20/20 [==============================] - 0s 4ms/step - batch: 9.5000 - size: 1.0000 - loss: 0.1734 - acc: 0.9569\n",
      "Epoch 45/100\n",
      "20/20 [==============================] - 0s 5ms/step - batch: 9.5000 - size: 1.0000 - loss: 0.1868 - acc: 0.9529\n",
      "Epoch 46/100\n",
      "20/20 [==============================] - 0s 5ms/step - batch: 9.5000 - size: 1.0000 - loss: 0.1817 - acc: 0.9480\n",
      "Epoch 47/100\n",
      "20/20 [==============================] - 0s 5ms/step - batch: 9.5000 - size: 1.0000 - loss: 0.1699 - acc: 0.9500\n",
      "Epoch 48/100\n",
      "20/20 [==============================] - 0s 4ms/step - batch: 9.5000 - size: 1.0000 - loss: 0.1768 - acc: 0.9510\n",
      "Epoch 49/100\n",
      "20/20 [==============================] - 0s 5ms/step - batch: 9.5000 - size: 1.0000 - loss: 0.1467 - acc: 0.9637\n",
      "Epoch 50/100\n",
      "20/20 [==============================] - 0s 4ms/step - batch: 9.5000 - size: 1.0000 - loss: 0.1541 - acc: 0.9539\n",
      "Epoch 51/100\n",
      "20/20 [==============================] - 0s 5ms/step - batch: 9.5000 - size: 1.0000 - loss: 0.1689 - acc: 0.9471\n",
      "Epoch 52/100\n",
      "20/20 [==============================] - 0s 5ms/step - batch: 9.5000 - size: 1.0000 - loss: 0.1562 - acc: 0.9627\n",
      "Epoch 53/100\n",
      "20/20 [==============================] - 0s 5ms/step - batch: 9.5000 - size: 1.0000 - loss: 0.1372 - acc: 0.9647\n",
      "Epoch 54/100\n",
      "20/20 [==============================] - 0s 5ms/step - batch: 9.5000 - size: 1.0000 - loss: 0.1476 - acc: 0.9588\n",
      "Epoch 55/100\n",
      "20/20 [==============================] - 0s 4ms/step - batch: 9.5000 - size: 1.0000 - loss: 0.1396 - acc: 0.9627\n",
      "Epoch 56/100\n",
      "20/20 [==============================] - 0s 4ms/step - batch: 9.5000 - size: 1.0000 - loss: 0.1551 - acc: 0.9559\n",
      "Epoch 57/100\n",
      "20/20 [==============================] - 0s 4ms/step - batch: 9.5000 - size: 1.0000 - loss: 0.1505 - acc: 0.9559\n",
      "Epoch 58/100\n",
      "20/20 [==============================] - 0s 4ms/step - batch: 9.5000 - size: 1.0000 - loss: 0.1416 - acc: 0.9578\n",
      "Epoch 59/100\n",
      "20/20 [==============================] - 0s 4ms/step - batch: 9.5000 - size: 1.0000 - loss: 0.1483 - acc: 0.9637\n",
      "Epoch 60/100\n",
      "20/20 [==============================] - 0s 4ms/step - batch: 9.5000 - size: 1.0000 - loss: 0.1361 - acc: 0.9657\n",
      "Epoch 61/100\n",
      "20/20 [==============================] - 0s 4ms/step - batch: 9.5000 - size: 1.0000 - loss: 0.1220 - acc: 0.9686\n",
      "Epoch 62/100\n",
      "20/20 [==============================] - 0s 4ms/step - batch: 9.5000 - size: 1.0000 - loss: 0.1215 - acc: 0.9667\n",
      "Epoch 63/100\n"
     ]
    },
    {
     "name": "stdout",
     "output_type": "stream",
     "text": [
      "20/20 [==============================] - 0s 4ms/step - batch: 9.5000 - size: 1.0000 - loss: 0.1285 - acc: 0.9667\n",
      "Epoch 64/100\n",
      "20/20 [==============================] - 0s 4ms/step - batch: 9.5000 - size: 1.0000 - loss: 0.1258 - acc: 0.9676\n",
      "Epoch 65/100\n",
      "20/20 [==============================] - 0s 4ms/step - batch: 9.5000 - size: 1.0000 - loss: 0.1211 - acc: 0.9598\n",
      "Epoch 66/100\n",
      "20/20 [==============================] - 0s 4ms/step - batch: 9.5000 - size: 1.0000 - loss: 0.1091 - acc: 0.9745\n",
      "Epoch 67/100\n",
      "20/20 [==============================] - 0s 5ms/step - batch: 9.5000 - size: 1.0000 - loss: 0.1131 - acc: 0.9686\n",
      "Epoch 68/100\n",
      "20/20 [==============================] - 0s 5ms/step - batch: 9.5000 - size: 1.0000 - loss: 0.1299 - acc: 0.9657\n",
      "Epoch 69/100\n",
      "20/20 [==============================] - 0s 4ms/step - batch: 9.5000 - size: 1.0000 - loss: 0.1122 - acc: 0.9716\n",
      "Epoch 70/100\n",
      "20/20 [==============================] - 0s 4ms/step - batch: 9.5000 - size: 1.0000 - loss: 0.1052 - acc: 0.9716\n",
      "Epoch 71/100\n",
      "20/20 [==============================] - 0s 3ms/step - batch: 9.5000 - size: 1.0000 - loss: 0.1165 - acc: 0.9676\n",
      "Epoch 72/100\n",
      "20/20 [==============================] - 0s 4ms/step - batch: 9.5000 - size: 1.0000 - loss: 0.1063 - acc: 0.9706\n",
      "Epoch 73/100\n",
      "20/20 [==============================] - 0s 4ms/step - batch: 9.5000 - size: 1.0000 - loss: 0.0950 - acc: 0.9755\n",
      "Epoch 74/100\n",
      "20/20 [==============================] - 0s 5ms/step - batch: 9.5000 - size: 1.0000 - loss: 0.1072 - acc: 0.9676\n",
      "Epoch 75/100\n",
      "20/20 [==============================] - 0s 4ms/step - batch: 9.5000 - size: 1.0000 - loss: 0.0876 - acc: 0.9794\n",
      "Epoch 76/100\n",
      "20/20 [==============================] - 0s 4ms/step - batch: 9.5000 - size: 1.0000 - loss: 0.0964 - acc: 0.9794\n",
      "Epoch 77/100\n",
      "20/20 [==============================] - 0s 6ms/step - batch: 9.5000 - size: 1.0000 - loss: 0.1078 - acc: 0.9725\n",
      "Epoch 78/100\n",
      "20/20 [==============================] - 0s 6ms/step - batch: 9.5000 - size: 1.0000 - loss: 0.0946 - acc: 0.9725\n",
      "Epoch 79/100\n",
      "20/20 [==============================] - 0s 4ms/step - batch: 9.5000 - size: 1.0000 - loss: 0.0819 - acc: 0.9833\n",
      "Epoch 80/100\n",
      "20/20 [==============================] - 0s 4ms/step - batch: 9.5000 - size: 1.0000 - loss: 0.0757 - acc: 0.9843\n",
      "Epoch 81/100\n",
      "20/20 [==============================] - 0s 4ms/step - batch: 9.5000 - size: 1.0000 - loss: 0.0964 - acc: 0.9735\n",
      "Epoch 82/100\n",
      "20/20 [==============================] - 0s 3ms/step - batch: 9.5000 - size: 1.0000 - loss: 0.0910 - acc: 0.9784\n",
      "Epoch 83/100\n",
      "20/20 [==============================] - 0s 5ms/step - batch: 9.5000 - size: 1.0000 - loss: 0.0836 - acc: 0.9784\n",
      "Epoch 84/100\n",
      "20/20 [==============================] - 0s 5ms/step - batch: 9.5000 - size: 1.0000 - loss: 0.0972 - acc: 0.9696\n",
      "Epoch 85/100\n",
      "20/20 [==============================] - 0s 5ms/step - batch: 9.5000 - size: 1.0000 - loss: 0.0856 - acc: 0.9745\n",
      "Epoch 86/100\n",
      "20/20 [==============================] - 0s 5ms/step - batch: 9.5000 - size: 1.0000 - loss: 0.0913 - acc: 0.9735\n",
      "Epoch 87/100\n",
      "20/20 [==============================] - 0s 5ms/step - batch: 9.5000 - size: 1.0000 - loss: 0.0860 - acc: 0.9784\n",
      "Epoch 88/100\n",
      "20/20 [==============================] - 0s 4ms/step - batch: 9.5000 - size: 1.0000 - loss: 0.0970 - acc: 0.9745\n",
      "Epoch 89/100\n",
      "20/20 [==============================] - 0s 4ms/step - batch: 9.5000 - size: 1.0000 - loss: 0.0793 - acc: 0.9833\n",
      "Epoch 90/100\n",
      "20/20 [==============================] - 0s 5ms/step - batch: 9.5000 - size: 1.0000 - loss: 0.0731 - acc: 0.9824\n",
      "Epoch 91/100\n",
      "20/20 [==============================] - ETA: 0s - batch: 7.5000 - size: 1.0000 - loss: 0.0821 - acc: 0.9767   - 0s 3ms/step - batch: 9.5000 - size: 1.0000 - loss: 0.0761 - acc: 0.9784\n",
      "Epoch 92/100\n",
      "20/20 [==============================] - 0s 4ms/step - batch: 9.5000 - size: 1.0000 - loss: 0.0751 - acc: 0.9794\n",
      "Epoch 93/100\n",
      "20/20 [==============================] - ETA: 0s - batch: 7.0000 - size: 1.0000 - loss: 0.0852 - acc: 0.9804   - 0s 4ms/step - batch: 9.5000 - size: 1.0000 - loss: 0.0809 - acc: 0.9804\n",
      "Epoch 94/100\n",
      "20/20 [==============================] - 0s 6ms/step - batch: 9.5000 - size: 1.0000 - loss: 0.0798 - acc: 0.9804\n",
      "Epoch 95/100\n",
      "20/20 [==============================] - 0s 4ms/step - batch: 9.5000 - size: 1.0000 - loss: 0.1003 - acc: 0.9735\n",
      "Epoch 96/100\n",
      "20/20 [==============================] - 0s 4ms/step - batch: 9.5000 - size: 1.0000 - loss: 0.0884 - acc: 0.9775\n",
      "Epoch 97/100\n",
      "20/20 [==============================] - 0s 6ms/step - batch: 9.5000 - size: 1.0000 - loss: 0.0762 - acc: 0.9814\n",
      "Epoch 98/100\n",
      "20/20 [==============================] - 0s 4ms/step - batch: 9.5000 - size: 1.0000 - loss: 0.0786 - acc: 0.9765\n",
      "Epoch 99/100\n",
      "20/20 [==============================] - ETA: 0s - batch: 6.5000 - size: 1.0000 - loss: 0.0767 - acc: 0.9804   - 0s 5ms/step - batch: 9.5000 - size: 1.0000 - loss: 0.0745 - acc: 0.9814\n",
      "Epoch 100/100\n",
      "20/20 [==============================] - 0s 5ms/step - batch: 9.5000 - size: 1.0000 - loss: 0.0855 - acc: 0.9765\n",
      "model created\n"
     ]
    }
   ],
   "source": [
    "sgd = SGD(lr=0.01, decay=1e-6, momentum=0.9, nesterov=True)\n",
    "model.compile(loss='categorical_crossentropy', optimizer=sgd, metrics=['accuracy'])\n",
    "hist = model.fit(tf.constant(train_x), tf.constant(train_y),\n",
    "                 epochs=100, batch_size=32, verbose=1, \n",
    "                steps_per_epoch=20)\n",
    "model.save('chatbot_model.h5', hist)\n",
    "model.save('model.tflearn', hist)\n",
    "print(\"model created\")"
   ]
  },
  {
   "cell_type": "code",
   "execution_count": 67,
   "id": "79365870",
   "metadata": {},
   "outputs": [
    {
     "name": "stdout",
     "output_type": "stream",
     "text": [
      "WARNING:tensorflow:FOR KERAS USERS: The object that you are saving contains one or more Keras models or layers. If you are loading the SavedModel with `tf.keras.models.load_model`, continue reading (otherwise, you may ignore the following instructions). Please change your code to save with `tf.keras.models.save_model` or `model.save`, and confirm that the file \"keras.metadata\" exists in the export directory. In the future, Keras will only load the SavedModels that have this file. In other words, `tf.saved_model.save` will no longer write SavedModels that can be recovered as Keras models (this will apply in TF 2.5).\n",
      "\n",
      "FOR DEVS: If you are overwriting _tracking_metadata in your class, this property has been used to save metadata in the SavedModel. The metadata field will be deprecated soon, so please move the metadata to a different file.\n"
     ]
    },
    {
     "name": "stderr",
     "output_type": "stream",
     "text": [
      "WARNING:tensorflow:FOR KERAS USERS: The object that you are saving contains one or more Keras models or layers. If you are loading the SavedModel with `tf.keras.models.load_model`, continue reading (otherwise, you may ignore the following instructions). Please change your code to save with `tf.keras.models.save_model` or `model.save`, and confirm that the file \"keras.metadata\" exists in the export directory. In the future, Keras will only load the SavedModels that have this file. In other words, `tf.saved_model.save` will no longer write SavedModels that can be recovered as Keras models (this will apply in TF 2.5).\n",
      "\n",
      "FOR DEVS: If you are overwriting _tracking_metadata in your class, this property has been used to save metadata in the SavedModel. The metadata field will be deprecated soon, so please move the metadata to a different file.\n"
     ]
    },
    {
     "name": "stdout",
     "output_type": "stream",
     "text": [
      "INFO:tensorflow:Assets written to: /tmp/saved_model/1/assets\n"
     ]
    },
    {
     "name": "stderr",
     "output_type": "stream",
     "text": [
      "INFO:tensorflow:Assets written to: /tmp/saved_model/1/assets\n",
      "WARNING:absl:Invoking the TF1 implementation of TFLiteConverter because eager is disabled. Consider enabling eager.\n"
     ]
    },
    {
     "name": "stdout",
     "output_type": "stream",
     "text": [
      "INFO:tensorflow:Restoring parameters from /tmp/saved_model/1/variables\\variables\n"
     ]
    },
    {
     "name": "stderr",
     "output_type": "stream",
     "text": [
      "INFO:tensorflow:Restoring parameters from /tmp/saved_model/1/variables\\variables\n"
     ]
    },
    {
     "name": "stdout",
     "output_type": "stream",
     "text": [
      "INFO:tensorflow:The given SavedModel MetaGraphDef contains SignatureDefs with the following keys: {'__saved_model_init_op', 'serving_default'}\n"
     ]
    },
    {
     "name": "stderr",
     "output_type": "stream",
     "text": [
      "INFO:tensorflow:The given SavedModel MetaGraphDef contains SignatureDefs with the following keys: {'__saved_model_init_op', 'serving_default'}\n"
     ]
    },
    {
     "name": "stdout",
     "output_type": "stream",
     "text": [
      "INFO:tensorflow:input tensors info: \n"
     ]
    },
    {
     "name": "stderr",
     "output_type": "stream",
     "text": [
      "INFO:tensorflow:input tensors info: \n"
     ]
    },
    {
     "name": "stdout",
     "output_type": "stream",
     "text": [
      "INFO:tensorflow:Tensor's key in saved_model's tensor_map: dense_input\n"
     ]
    },
    {
     "name": "stderr",
     "output_type": "stream",
     "text": [
      "INFO:tensorflow:Tensor's key in saved_model's tensor_map: dense_input\n"
     ]
    },
    {
     "name": "stdout",
     "output_type": "stream",
     "text": [
      "INFO:tensorflow: tensor name: serving_default_dense_input:0, shape: (-1, 86), type: DT_FLOAT\n"
     ]
    },
    {
     "name": "stderr",
     "output_type": "stream",
     "text": [
      "INFO:tensorflow: tensor name: serving_default_dense_input:0, shape: (-1, 86), type: DT_FLOAT\n"
     ]
    },
    {
     "name": "stdout",
     "output_type": "stream",
     "text": [
      "INFO:tensorflow:output tensors info: \n"
     ]
    },
    {
     "name": "stderr",
     "output_type": "stream",
     "text": [
      "INFO:tensorflow:output tensors info: \n"
     ]
    },
    {
     "name": "stdout",
     "output_type": "stream",
     "text": [
      "INFO:tensorflow:Tensor's key in saved_model's tensor_map: dense_3\n"
     ]
    },
    {
     "name": "stderr",
     "output_type": "stream",
     "text": [
      "INFO:tensorflow:Tensor's key in saved_model's tensor_map: dense_3\n"
     ]
    },
    {
     "name": "stdout",
     "output_type": "stream",
     "text": [
      "INFO:tensorflow: tensor name: StatefulPartitionedCall:0, shape: (-1, 8), type: DT_FLOAT\n"
     ]
    },
    {
     "name": "stderr",
     "output_type": "stream",
     "text": [
      "INFO:tensorflow: tensor name: StatefulPartitionedCall:0, shape: (-1, 8), type: DT_FLOAT\n"
     ]
    },
    {
     "name": "stdout",
     "output_type": "stream",
     "text": [
      "INFO:tensorflow:Restoring parameters from /tmp/saved_model/1/variables\\variables\n"
     ]
    },
    {
     "name": "stderr",
     "output_type": "stream",
     "text": [
      "INFO:tensorflow:Restoring parameters from /tmp/saved_model/1/variables\\variables\n"
     ]
    },
    {
     "name": "stdout",
     "output_type": "stream",
     "text": [
      "INFO:tensorflow:Restoring parameters from /tmp/saved_model/1/variables\\variables\n"
     ]
    },
    {
     "name": "stderr",
     "output_type": "stream",
     "text": [
      "INFO:tensorflow:Restoring parameters from /tmp/saved_model/1/variables\\variables\n"
     ]
    },
    {
     "name": "stdout",
     "output_type": "stream",
     "text": [
      "INFO:tensorflow:The given SavedModel MetaGraphDef contains SignatureDefs with the following keys: {'__saved_model_init_op', 'serving_default'}\n"
     ]
    },
    {
     "name": "stderr",
     "output_type": "stream",
     "text": [
      "INFO:tensorflow:The given SavedModel MetaGraphDef contains SignatureDefs with the following keys: {'__saved_model_init_op', 'serving_default'}\n"
     ]
    },
    {
     "name": "stdout",
     "output_type": "stream",
     "text": [
      "INFO:tensorflow:input tensors info: \n"
     ]
    },
    {
     "name": "stderr",
     "output_type": "stream",
     "text": [
      "INFO:tensorflow:input tensors info: \n"
     ]
    },
    {
     "name": "stdout",
     "output_type": "stream",
     "text": [
      "INFO:tensorflow:Tensor's key in saved_model's tensor_map: dense_input\n"
     ]
    },
    {
     "name": "stderr",
     "output_type": "stream",
     "text": [
      "INFO:tensorflow:Tensor's key in saved_model's tensor_map: dense_input\n"
     ]
    },
    {
     "name": "stdout",
     "output_type": "stream",
     "text": [
      "INFO:tensorflow: tensor name: serving_default_dense_input:0, shape: (-1, 86), type: DT_FLOAT\n"
     ]
    },
    {
     "name": "stderr",
     "output_type": "stream",
     "text": [
      "INFO:tensorflow: tensor name: serving_default_dense_input:0, shape: (-1, 86), type: DT_FLOAT\n"
     ]
    },
    {
     "name": "stdout",
     "output_type": "stream",
     "text": [
      "INFO:tensorflow:output tensors info: \n"
     ]
    },
    {
     "name": "stderr",
     "output_type": "stream",
     "text": [
      "INFO:tensorflow:output tensors info: \n"
     ]
    },
    {
     "name": "stdout",
     "output_type": "stream",
     "text": [
      "INFO:tensorflow:Tensor's key in saved_model's tensor_map: dense_3\n"
     ]
    },
    {
     "name": "stderr",
     "output_type": "stream",
     "text": [
      "INFO:tensorflow:Tensor's key in saved_model's tensor_map: dense_3\n"
     ]
    },
    {
     "name": "stdout",
     "output_type": "stream",
     "text": [
      "INFO:tensorflow: tensor name: StatefulPartitionedCall:0, shape: (-1, 8), type: DT_FLOAT\n"
     ]
    },
    {
     "name": "stderr",
     "output_type": "stream",
     "text": [
      "INFO:tensorflow: tensor name: StatefulPartitionedCall:0, shape: (-1, 8), type: DT_FLOAT\n"
     ]
    },
    {
     "name": "stdout",
     "output_type": "stream",
     "text": [
      "INFO:tensorflow:Restoring parameters from /tmp/saved_model/1/variables\\variables\n"
     ]
    },
    {
     "name": "stderr",
     "output_type": "stream",
     "text": [
      "INFO:tensorflow:Restoring parameters from /tmp/saved_model/1/variables\\variables\n",
      "Use '@tf.function' or '@defun' to decorate the function.\n",
      "Use '@tf.function' or '@defun' to decorate the function.\n",
      "Use '@tf.function' or '@defun' to decorate the function.\n",
      "Use '@tf.function' or '@defun' to decorate the function.\n",
      "Use '@tf.function' or '@defun' to decorate the function.\n",
      "Use '@tf.function' or '@defun' to decorate the function.\n",
      "Use '@tf.function' or '@defun' to decorate the function.\n",
      "Use '@tf.function' or '@defun' to decorate the function.\n",
      "Use '@tf.function' or '@defun' to decorate the function.\n",
      "Use '@tf.function' or '@defun' to decorate the function.\n",
      "Use '@tf.function' or '@defun' to decorate the function.\n",
      "Use '@tf.function' or '@defun' to decorate the function.\n",
      "Use '@tf.function' or '@defun' to decorate the function.\n",
      "Use '@tf.function' or '@defun' to decorate the function.\n",
      "Use '@tf.function' or '@defun' to decorate the function.\n",
      "Use '@tf.function' or '@defun' to decorate the function.\n",
      "Use '@tf.function' or '@defun' to decorate the function.\n",
      "Use '@tf.function' or '@defun' to decorate the function.\n",
      "Use '@tf.function' or '@defun' to decorate the function.\n"
     ]
    },
    {
     "data": {
      "text/plain": [
       "26608"
      ]
     },
     "execution_count": 67,
     "metadata": {},
     "output_type": "execute_result"
    }
   ],
   "source": [
    "import pathlib\n",
    "tf.saved_model.save(model, '/tmp/saved_model/1/') #will be saved in dick C\n",
    "\n",
    "\n",
    "# import tensorflow.keras.backend\n",
    "# # Convert the model.\n",
    "# converter = tf.lite.TFLiteConverter.from_keras_model(model)\n",
    "# tflite_model = converter.convert()\n",
    "# model.save('/tmp/my_model', hist)\n",
    "converter = tf.lite.TFLiteConverter.from_saved_model('/tmp/saved_model/1/') # path to the SavedModel directory\n",
    "converter.optimizations = [tf.lite.Optimize.DEFAULT]\n",
    "tflite_model = converter.convert()\n",
    "\n",
    "# # Save the model.\n",
    "# with open('model.tflite', 'wb') as f:\n",
    "#     f.write(tflite_model)\n",
    "\n",
    "tflite_model_file = pathlib.Path('/tmp/model.tflite')\n",
    "tflite_model_file.write_bytes(tflite_model)\n",
    "\n",
    "    "
   ]
  },
  {
   "cell_type": "code",
   "execution_count": 68,
   "id": "8ec618fe",
   "metadata": {},
   "outputs": [
    {
     "name": "stdout",
     "output_type": "stream",
     "text": [
      "Pickle is also Saved..........\n"
     ]
    }
   ],
   "source": [
    "print(\"Pickle is also Saved..........\")\n",
    "pickle.dump( {'words':words, 'classes':classes, 'train_x':train_x, 'train_y':train_y}, open( \"training_data\", \"wb\" ) )"
   ]
  },
  {
   "cell_type": "code",
   "execution_count": 135,
   "id": "775e6453",
   "metadata": {},
   "outputs": [
    {
     "name": "stdout",
     "output_type": "stream",
     "text": [
      "Loading Pickle.....\n"
     ]
    }
   ],
   "source": [
    "print(\"Loading Pickle.....\")\n",
    "data = pickle.load( open( \"training_data\", \"rb\" ) )\n",
    "words = data['words']\n",
    "classes = data['classes']\n",
    "train_x = data['train_x']\n",
    "train_y = data['train_y']\n",
    "\n",
    "\n",
    "with open('intents.json') as json_data:\n",
    "    intents = json.load(json_data)\n",
    "    \n",
    "# load our saved model\n",
    "# model.load('./model.tflearn')\n",
    "\n",
    "# # Recreate the exact same model, including its weights and the optimizer\n",
    "# new_model = tf.keras.models.load_model('chatbot_model.h5')\n",
    "\n",
    "# # Show the model architecture\n",
    "# new_model.summary()\n",
    "\n",
    "interpreter = tf.lite.Interpreter(model_content=tflite_model)\n",
    "interpreter.allocate_tensors()\n",
    "\n",
    "input_details = interpreter.get_input_details()[0]['index']\n",
    "output_details = interpreter.get_output_details()[0]['index']"
   ]
  },
  {
   "cell_type": "code",
   "execution_count": null,
   "id": "5e322d4a",
   "metadata": {},
   "outputs": [],
   "source": []
  },
  {
   "cell_type": "code",
   "execution_count": null,
   "id": "d7166229",
   "metadata": {},
   "outputs": [],
   "source": []
  },
  {
   "cell_type": "code",
   "execution_count": 136,
   "id": "7f7594b7",
   "metadata": {},
   "outputs": [],
   "source": [
    "def clean_up_sentence(sentence):\n",
    "    # It Tokenize or Break it into the constituents parts of Sentense.\n",
    "    sentence_words = nltk.word_tokenize(sentence)\n",
    "    # Stemming means to find the root of the word.\n",
    "    sentence_words = [stemmer.stem(word.lower()) for word in sentence_words]\n",
    "    return sentence_words"
   ]
  },
  {
   "cell_type": "code",
   "execution_count": null,
   "id": "8902862d",
   "metadata": {},
   "outputs": [],
   "source": []
  },
  {
   "cell_type": "code",
   "execution_count": 137,
   "id": "e6f1f3df",
   "metadata": {},
   "outputs": [
    {
     "name": "stdout",
     "output_type": "stream",
     "text": [
      "ERROR_THRESHOLD = 0.25\n"
     ]
    }
   ],
   "source": [
    "# Return the Array of Bag of Words: True or False and 0 or 1 for each word of bag that exists in the Sentence\n",
    "def bow(sentence, words, show_details=False):\n",
    "    sentence_words = clean_up_sentence(sentence)\n",
    "    bag = [0]*len(words)\n",
    "    for s in sentence_words:\n",
    "        for i,w in enumerate(words):\n",
    "            if w == s:\n",
    "                bag[i] = 1\n",
    "                if show_details:\n",
    "                    print (\"found in bag: %s\" % w)\n",
    "    return(np.array(bag))\n",
    "\n",
    "ERROR_THRESHOLD = 0.25\n",
    "print(\"ERROR_THRESHOLD = 0.25\")"
   ]
  },
  {
   "cell_type": "code",
   "execution_count": 138,
   "id": "ef44e659",
   "metadata": {},
   "outputs": [
    {
     "name": "stdout",
     "output_type": "stream",
     "text": [
      "[ 1 86]\n",
      "<class 'numpy.float32'>\n",
      "[1 8]\n",
      "<class 'numpy.float32'>\n"
     ]
    }
   ],
   "source": [
    "# p = bow(\"whats\", words)\n",
    "# print (p)\n",
    "# print (classes)\n",
    "\n",
    "# Print input shape and type\n",
    "print(interpreter.get_input_details()[0]['shape'])  # Example: [1 86]\n",
    "print(interpreter.get_input_details()[0]['dtype'])  # Example: <class 'numpy.float32'>\n",
    "\n",
    "# Print output shape and type\n",
    "print(interpreter.get_output_details()[0]['shape'])  # Example: [1 8]\n",
    "print(interpreter.get_output_details()[0]['dtype'])  # Example: <class 'numpy.float32'>"
   ]
  },
  {
   "cell_type": "code",
   "execution_count": 141,
   "id": "040c09a4",
   "metadata": {},
   "outputs": [
    {
     "name": "stdout",
     "output_type": "stream",
     "text": [
      "[9.3528411e-07 9.9923193e-01 4.8578670e-07 4.1155235e-04 6.6970861e-06\n",
      " 3.2506164e-04 2.6503088e-08 2.3289105e-05]\n"
     ]
    },
    {
     "data": {
      "text/plain": [
       "[('greeting', 0.99923193)]"
      ]
     },
     "execution_count": 141,
     "metadata": {},
     "output_type": "execute_result"
    }
   ],
   "source": [
    "def classify(sentence):\n",
    "#     # generate probabilities from the model\n",
    "    input_data = pd.DataFrame([bow(sentence, words)], dtype=np.float32, index=['input'])\n",
    "#     # Prediction or To Get the Posibility or Probability from the Model\n",
    "#     results = new_model.predict([input_data])[0]\n",
    "    interpreter.set_tensor(input_details, ([input_data])[0])\n",
    "    interpreter.invoke()\n",
    "    results = interpreter.get_tensor(output_details)[0]\n",
    "#     print(results)\n",
    "    # Exclude those results which are Below Threshold\n",
    "    results = [[i,r] for i,r in enumerate(results) if r>ERROR_THRESHOLD]\n",
    "    # Sorting is Done because heigher Confidence Answer comes first.\n",
    "    results.sort(key=lambda x: x[1], reverse=True)\n",
    "    return_list = []\n",
    "    for r in results:\n",
    "        return_list.append((classes[r[0]], r[1])) #Tuppl -> Intent and Probability\n",
    "    return return_list\n",
    "\n",
    "classify('hi')"
   ]
  },
  {
   "cell_type": "code",
   "execution_count": 142,
   "id": "f7202dfc",
   "metadata": {},
   "outputs": [],
   "source": [
    "def response(sentence, show_details=False):\n",
    "    results = classify(sentence)\n",
    "    # That Means if Classification is Done then Find the Matching Tag.\n",
    "    if results:\n",
    "        # Long Loop to get the Result.\n",
    "        while results:\n",
    "            for i in intents['intents']:\n",
    "                # Tag Finding\n",
    "                if i['tag'] == results[0][0]:\n",
    "                    # Random Response from High Order Probabilities\n",
    "                    return print(random.choice(i['responses']))\n",
    "\n",
    "            results.pop(0)"
   ]
  },
  {
   "cell_type": "code",
   "execution_count": 143,
   "id": "9133f228",
   "metadata": {},
   "outputs": [
    {
     "name": "stdout",
     "output_type": "stream",
     "text": [
      "Hai, hari yang indah\n",
      "Perkenalkan, saya Zassy. Chatbot pribadi anda\n",
      "Ada yang bisa saya bantu?\n",
      "You : ho\n",
      "[5.8034640e-02 3.2779753e-02 1.5675671e-02 8.5620922e-01 2.4219338e-02\n",
      " 2.7972863e-03 4.1357061e-04 9.8705115e-03]\n",
      "Pesan kamu sepertinya kosong\n",
      "You : hi\n",
      "[9.3528411e-07 9.9923193e-01 4.8578670e-07 4.1155235e-04 6.6970861e-06\n",
      " 3.2506164e-04 2.6503088e-08 2.3289105e-05]\n",
      "Hai juga, Bagaimana dengan hari ini?\n",
      "You : quit\n"
     ]
    }
   ],
   "source": [
    "from time import sleep\n",
    "print(\"Hai, hari yang indah\")\n",
    "sleep(0.5)\n",
    "print(\"Perkenalkan, saya Zassy. Chatbot pribadi anda\")\n",
    "sleep(0.5)\n",
    "print(\"Ada yang bisa saya bantu?\")\n",
    "while True:\n",
    "    input_data = input(\"You : \")\n",
    "    if input_data.lower()== \"quit\" :\n",
    "        break\n",
    "    answer = response(input_data)\n",
    "    answer"
   ]
  },
  {
   "cell_type": "code",
   "execution_count": null,
   "id": "9e8901c0",
   "metadata": {},
   "outputs": [],
   "source": []
  }
 ],
 "metadata": {
  "kernelspec": {
   "display_name": "Python 3",
   "language": "python",
   "name": "python3"
  },
  "language_info": {
   "codemirror_mode": {
    "name": "ipython",
    "version": 3
   },
   "file_extension": ".py",
   "mimetype": "text/x-python",
   "name": "python",
   "nbconvert_exporter": "python",
   "pygments_lexer": "ipython3",
   "version": "3.8.10"
  }
 },
 "nbformat": 4,
 "nbformat_minor": 5
}
