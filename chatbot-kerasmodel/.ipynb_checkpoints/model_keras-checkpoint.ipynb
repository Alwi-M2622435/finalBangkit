{
 "cells": [
  {
   "cell_type": "code",
   "execution_count": 1,
   "id": "d28d1ad6",
   "metadata": {},
   "outputs": [
    {
     "data": {
      "text/plain": [
       "True"
      ]
     },
     "execution_count": 1,
     "metadata": {},
     "output_type": "execute_result"
    }
   ],
   "source": [
    "import tensorflow as tf\n",
    "tf.executing_eagerly()"
   ]
  },
  {
   "cell_type": "code",
   "execution_count": 2,
   "id": "cb6353f0",
   "metadata": {},
   "outputs": [
    {
     "name": "stdout",
     "output_type": "stream",
     "text": [
      "WARNING:tensorflow:From c:\\users\\noeroel nabilah\\appdata\\local\\programs\\python\\python38\\lib\\site-packages\\tensorflow\\python\\compat\\v2_compat.py:96: disable_resource_variables (from tensorflow.python.ops.variable_scope) is deprecated and will be removed in a future version.\n",
      "Instructions for updating:\n",
      "non-resource variables are not supported in the long term\n",
      "curses is not supported on this machine (please install/reinstall curses for an optimal experience)\n",
      "2.6.0-dev20210528\n"
     ]
    }
   ],
   "source": [
    "#Used in Tensorflow Model\n",
    "import numpy as np\n",
    "import tflearn\n",
    "import random\n",
    "\n",
    "#Used to for Contextualisation and Other NLP Tasks.\n",
    "import nltk\n",
    "from nltk.stem.lancaster import LancasterStemmer\n",
    "stemmer = LancasterStemmer()\n",
    "\n",
    "#Other\n",
    "import json\n",
    "import pickle\n",
    "import warnings\n",
    "from tensorflow.keras.models import Sequential, load_model\n",
    "from tensorflow.keras.layers import Dense, Activation, Dropout\n",
    "from tensorflow.keras.optimizers import SGD\n",
    "warnings.filterwarnings(\"ignore\")\n",
    "print(tf.__version__)"
   ]
  },
  {
   "cell_type": "code",
   "execution_count": 3,
   "id": "d2b54d8e",
   "metadata": {},
   "outputs": [
    {
     "name": "stdout",
     "output_type": "stream",
     "text": [
      "Processing the Intents.....\n"
     ]
    }
   ],
   "source": [
    "print(\"Processing the Intents.....\")\n",
    "with open('intents.json') as json_data:\n",
    "    intents = json.load(json_data)"
   ]
  },
  {
   "cell_type": "code",
   "execution_count": 4,
   "id": "3670a2a7",
   "metadata": {},
   "outputs": [
    {
     "name": "stdout",
     "output_type": "stream",
     "text": [
      "Looping through the Intents to Convert them to words, classes, documents and ignore_words.......\n"
     ]
    }
   ],
   "source": [
    "words = []\n",
    "classes = []\n",
    "documents = []\n",
    "ignore_words = ['?']\n",
    "print(\"Looping through the Intents to Convert them to words, classes, documents and ignore_words.......\")\n",
    "for intent in intents['intents']:\n",
    "    for pattern in intent['patterns']:\n",
    "        # tokenize each word in the sentence\n",
    "        w = nltk.word_tokenize(pattern)\n",
    "        # add to our words list\n",
    "        words.extend(w)\n",
    "        # add to documents in our corpus\n",
    "        documents.append((w, intent['tag']))\n",
    "        # add to our classes list\n",
    "        if intent['tag'] not in classes:\n",
    "            classes.append(intent['tag'])"
   ]
  },
  {
   "cell_type": "code",
   "execution_count": 5,
   "id": "2dfc7865",
   "metadata": {},
   "outputs": [
    {
     "name": "stdout",
     "output_type": "stream",
     "text": [
      "Stemming, Lowering and Removing Duplicates.......\n",
      "51 documents\n",
      "8 classes ['goodbye', 'greeting', 'jokes', 'kosong', 'moodbaik', 'moodburuk', 'perkenalan', 'thanks']\n",
      "86 unique stemmed words ['!', ',', 'ad', 'aj', 'akhirny', 'aku', 'antusia', 'ap', 'apakah', 'bahag', 'banget', 'banyak', 'bersemang', 'bersyuk', 'bis', 'boleh', 'bro', 'capek', 'cer', 'dadah', 'deng', 'dengerin', 'dir', 'dulu', 'feel', 'ga', 'galau', 'good', 'hai', 'hal', 'halo', 'har', 'hello', 'hey', 'hi', 'in', 'ingin', 'itu', 'iâ€™m', 'jad', 'jok', 'jug', 'jump', 'kab', 'kamu', 'kasih', 'kegy', 'ken', 'kesel', 'kurang', 'lag', 'lelucon', 'lib', 'lucu', 'makasih', 'mau', 'membantu', 'menyelesaik', 'nam', 'nang', 'nyerah', 'obrol', 'orang', 'overthink', 'percay', 'perkenalk', 'rasany', 'sampa', 'sang', 'selesa', 'semang', 'senang', 'siap', 'stress', 'sudah', 'terim', 'terimakasih', 'terserah', 'thank', 'tid', 'tugasku', 'up', 'what', 'ya', 'yang', 'ye']\n"
     ]
    }
   ],
   "source": [
    "print(\"Stemming, Lowering and Removing Duplicates.......\")\n",
    "words = [stemmer.stem(w.lower()) for w in words if w not in ignore_words]\n",
    "words = sorted(list(set(words)))\n",
    "\n",
    "# remove duplicates\n",
    "classes = sorted(list(set(classes)))\n",
    "\n",
    "print (len(documents), \"documents\")\n",
    "print (len(classes), \"classes\", classes)\n",
    "print (len(words), \"unique stemmed words\", words)"
   ]
  },
  {
   "cell_type": "code",
   "execution_count": 6,
   "id": "b18b933b",
   "metadata": {},
   "outputs": [
    {
     "name": "stdout",
     "output_type": "stream",
     "text": [
      "Creating the Data for our Model.....\n",
      "Creating an List (Empty) for Output.....\n",
      "Creating Traning Set, Bag of Words for our Model....\n"
     ]
    }
   ],
   "source": [
    "print(\"Creating the Data for our Model.....\")\n",
    "training = []\n",
    "output = []\n",
    "print(\"Creating an List (Empty) for Output.....\")\n",
    "output_empty = [0] * len(classes)\n",
    "\n",
    "print(\"Creating Traning Set, Bag of Words for our Model....\")\n",
    "for doc in documents:\n",
    "    # initialize our bag of words\n",
    "    bag = []\n",
    "    # list of tokenized words for the pattern\n",
    "    pattern_words = doc[0]\n",
    "    # stem each word\n",
    "    pattern_words = [stemmer.stem(word.lower()) for word in pattern_words]\n",
    "    # create our bag of words array\n",
    "    for w in words:\n",
    "        bag.append(1) if w in pattern_words else bag.append(0)\n",
    "\n",
    "    # output is a '0' for each tag and '1' for current tag\n",
    "    output_row = list(output_empty)\n",
    "    output_row[classes.index(doc[1])] = 1\n",
    "\n",
    "    training.append([bag, output_row])"
   ]
  },
  {
   "cell_type": "code",
   "execution_count": 7,
   "id": "e6ada4e1",
   "metadata": {},
   "outputs": [
    {
     "name": "stdout",
     "output_type": "stream",
     "text": [
      "Shuffling Randomly and Converting into Numpy Array for Faster Processing......\n",
      "Creating Train and Test Lists.....\n",
      "Building Neural Network for Out Chatbot to be Contextual....\n",
      "Resetting graph data....\n"
     ]
    }
   ],
   "source": [
    "print(\"Shuffling Randomly and Converting into Numpy Array for Faster Processing......\")\n",
    "random.shuffle(training)\n",
    "training = np.array(training)\n",
    "\n",
    "print(\"Creating Train and Test Lists.....\")\n",
    "train_x = list(training[:,0])\n",
    "train_y = list(training[:,1])\n",
    "print(\"Building Neural Network for Out Chatbot to be Contextual....\")\n",
    "print(\"Resetting graph data....\")\n"
   ]
  },
  {
   "cell_type": "code",
   "execution_count": 8,
   "id": "1ebfd13a",
   "metadata": {},
   "outputs": [],
   "source": [
    "# %tensorflow_version 1.x\n",
    "tf.compat.v1.reset_default_graph()"
   ]
  },
  {
   "cell_type": "code",
   "execution_count": 9,
   "id": "7ad27129",
   "metadata": {},
   "outputs": [],
   "source": [
    "# model versi keras\n",
    "model = tf.keras.models.Sequential([\n",
    "    tf.keras.layers.Dense(units=128, input_shape=(len(train_x[0]),), activation='relu'),\n",
    "    tf.keras.layers.Dropout(0.5),\n",
    "    tf.keras.layers.Dense(units=64, activation='relu'),\n",
    "    tf.keras.layers.Dropout(0.5),\n",
    "    tf.keras.layers.Dense(units=32, activation='relu'),\n",
    "    tf.keras.layers.Dropout(0.5),\n",
    "    tf.keras.layers.Dense(units=len(train_y[0]), activation='softmax')\n",
    "])"
   ]
  },
  {
   "cell_type": "code",
   "execution_count": 10,
   "id": "0e1c7744",
   "metadata": {},
   "outputs": [
    {
     "name": "stdout",
     "output_type": "stream",
     "text": [
      "Train on 20 samples\n",
      "Epoch 1/100\n",
      "20/20 [==============================] - 0s 4ms/step - batch: 9.5000 - size: 1.0000 - loss: 2.0834 - acc: 0.1480\n",
      "Epoch 2/100\n",
      "20/20 [==============================] - 0s 11ms/step - batch: 9.5000 - size: 1.0000 - loss: 1.9966 - acc: 0.2098\n",
      "Epoch 3/100\n",
      "20/20 [==============================] - 0s 7ms/step - batch: 9.5000 - size: 1.0000 - loss: 1.9295 - acc: 0.2451\n",
      "Epoch 4/100\n",
      "20/20 [==============================] - 0s 7ms/step - batch: 9.5000 - size: 1.0000 - loss: 1.8832 - acc: 0.2725\n",
      "Epoch 5/100\n",
      "20/20 [==============================] - 0s 12ms/step - batch: 9.5000 - size: 1.0000 - loss: 1.8523 - acc: 0.3010\n",
      "Epoch 6/100\n",
      "20/20 [==============================] - 0s 7ms/step - batch: 9.5000 - size: 1.0000 - loss: 1.7902 - acc: 0.3069\n",
      "Epoch 7/100\n",
      "20/20 [==============================] - 0s 6ms/step - batch: 9.5000 - size: 1.0000 - loss: 1.7097 - acc: 0.3529\n",
      "Epoch 8/100\n",
      "20/20 [==============================] - 0s 5ms/step - batch: 9.5000 - size: 1.0000 - loss: 1.6130 - acc: 0.3990\n",
      "Epoch 9/100\n",
      "20/20 [==============================] - 0s 8ms/step - batch: 9.5000 - size: 1.0000 - loss: 1.5322 - acc: 0.4461\n",
      "Epoch 10/100\n",
      "20/20 [==============================] - 0s 9ms/step - batch: 9.5000 - size: 1.0000 - loss: 1.4003 - acc: 0.4843\n",
      "Epoch 11/100\n",
      "20/20 [==============================] - 0s 8ms/step - batch: 9.5000 - size: 1.0000 - loss: 1.3310 - acc: 0.5471\n",
      "Epoch 12/100\n",
      "20/20 [==============================] - ETA: 0s - batch: 5.5000 - size: 1.0000 - loss: 1.2486 - acc: 0.5801 - 0s 8ms/step - batch: 9.5000 - size: 1.0000 - loss: 1.2425 - acc: 0.5725\n",
      "Epoch 13/100\n",
      "20/20 [==============================] - 0s 7ms/step - batch: 9.5000 - size: 1.0000 - loss: 1.1321 - acc: 0.6108\n",
      "Epoch 14/100\n",
      "20/20 [==============================] - 0s 8ms/step - batch: 9.5000 - size: 1.0000 - loss: 1.0047 - acc: 0.6657\n",
      "Epoch 15/100\n",
      "20/20 [==============================] - 0s 6ms/step - batch: 9.5000 - size: 1.0000 - loss: 0.8843 - acc: 0.7127\n",
      "Epoch 16/100\n",
      "20/20 [==============================] - 0s 6ms/step - batch: 9.5000 - size: 1.0000 - loss: 0.8058 - acc: 0.7422\n",
      "Epoch 17/100\n",
      "20/20 [==============================] - 0s 5ms/step - batch: 9.5000 - size: 1.0000 - loss: 0.7450 - acc: 0.7569\n",
      "Epoch 18/100\n",
      "20/20 [==============================] - 0s 5ms/step - batch: 9.5000 - size: 1.0000 - loss: 0.6471 - acc: 0.8059\n",
      "Epoch 19/100\n",
      "20/20 [==============================] - 0s 7ms/step - batch: 9.5000 - size: 1.0000 - loss: 0.6416 - acc: 0.7941\n",
      "Epoch 20/100\n",
      "20/20 [==============================] - 0s 7ms/step - batch: 9.5000 - size: 1.0000 - loss: 0.5585 - acc: 0.8196\n",
      "Epoch 21/100\n",
      "20/20 [==============================] - 0s 5ms/step - batch: 9.5000 - size: 1.0000 - loss: 0.5411 - acc: 0.8343\n",
      "Epoch 22/100\n",
      "20/20 [==============================] - 0s 6ms/step - batch: 9.5000 - size: 1.0000 - loss: 0.4936 - acc: 0.8471\n",
      "Epoch 23/100\n",
      "20/20 [==============================] - 0s 6ms/step - batch: 9.5000 - size: 1.0000 - loss: 0.4447 - acc: 0.8598\n",
      "Epoch 24/100\n",
      "20/20 [==============================] - ETA: 0s - batch: 9.5000 - size: 1.0000 - loss: 0.4128 - acc: 0.85 - 0s 9ms/step - batch: 9.5000 - size: 1.0000 - loss: 0.4128 - acc: 0.8569\n",
      "Epoch 25/100\n",
      "20/20 [==============================] - 0s 7ms/step - batch: 9.5000 - size: 1.0000 - loss: 0.4109 - acc: 0.8657\n",
      "Epoch 26/100\n",
      "20/20 [==============================] - 0s 7ms/step - batch: 9.5000 - size: 1.0000 - loss: 0.3662 - acc: 0.8882\n",
      "Epoch 27/100\n",
      "20/20 [==============================] - 0s 6ms/step - batch: 9.5000 - size: 1.0000 - loss: 0.3573 - acc: 0.8912\n",
      "Epoch 28/100\n",
      "20/20 [==============================] - 0s 9ms/step - batch: 9.5000 - size: 1.0000 - loss: 0.3480 - acc: 0.8863\n",
      "Epoch 29/100\n",
      "20/20 [==============================] - 0s 7ms/step - batch: 9.5000 - size: 1.0000 - loss: 0.3158 - acc: 0.9137\n",
      "Epoch 30/100\n",
      "20/20 [==============================] - 0s 5ms/step - batch: 9.5000 - size: 1.0000 - loss: 0.2950 - acc: 0.9020\n",
      "Epoch 31/100\n",
      "20/20 [==============================] - 0s 4ms/step - batch: 9.5000 - size: 1.0000 - loss: 0.2878 - acc: 0.9108\n",
      "Epoch 32/100\n",
      "20/20 [==============================] - 0s 6ms/step - batch: 9.5000 - size: 1.0000 - loss: 0.2854 - acc: 0.9108\n",
      "Epoch 33/100\n",
      "20/20 [==============================] - 0s 5ms/step - batch: 9.5000 - size: 1.0000 - loss: 0.2818 - acc: 0.9118\n",
      "Epoch 34/100\n",
      "20/20 [==============================] - 0s 4ms/step - batch: 9.5000 - size: 1.0000 - loss: 0.2419 - acc: 0.9255\n",
      "Epoch 35/100\n",
      "20/20 [==============================] - 0s 6ms/step - batch: 9.5000 - size: 1.0000 - loss: 0.2549 - acc: 0.9294\n",
      "Epoch 36/100\n",
      "20/20 [==============================] - 0s 7ms/step - batch: 9.5000 - size: 1.0000 - loss: 0.2378 - acc: 0.9245\n",
      "Epoch 37/100\n",
      "20/20 [==============================] - 0s 6ms/step - batch: 9.5000 - size: 1.0000 - loss: 0.2255 - acc: 0.9412\n",
      "Epoch 38/100\n",
      "20/20 [==============================] - 0s 5ms/step - batch: 9.5000 - size: 1.0000 - loss: 0.2206 - acc: 0.9412\n",
      "Epoch 39/100\n",
      "20/20 [==============================] - 0s 7ms/step - batch: 9.5000 - size: 1.0000 - loss: 0.1952 - acc: 0.9520\n",
      "Epoch 40/100\n",
      "20/20 [==============================] - 0s 5ms/step - batch: 9.5000 - size: 1.0000 - loss: 0.1801 - acc: 0.9559\n",
      "Epoch 41/100\n",
      "20/20 [==============================] - 0s 5ms/step - batch: 9.5000 - size: 1.0000 - loss: 0.2034 - acc: 0.9353\n",
      "Epoch 42/100\n",
      "20/20 [==============================] - 0s 6ms/step - batch: 9.5000 - size: 1.0000 - loss: 0.1795 - acc: 0.9520\n",
      "Epoch 43/100\n",
      "20/20 [==============================] - 0s 6ms/step - batch: 9.5000 - size: 1.0000 - loss: 0.1632 - acc: 0.9627\n",
      "Epoch 44/100\n",
      "20/20 [==============================] - 0s 5ms/step - batch: 9.5000 - size: 1.0000 - loss: 0.1776 - acc: 0.9559\n",
      "Epoch 45/100\n",
      "20/20 [==============================] - 0s 6ms/step - batch: 9.5000 - size: 1.0000 - loss: 0.1617 - acc: 0.9588\n",
      "Epoch 46/100\n",
      "20/20 [==============================] - 0s 6ms/step - batch: 9.5000 - size: 1.0000 - loss: 0.1600 - acc: 0.9559\n",
      "Epoch 47/100\n",
      "20/20 [==============================] - 0s 5ms/step - batch: 9.5000 - size: 1.0000 - loss: 0.1581 - acc: 0.9608\n",
      "Epoch 48/100\n",
      "20/20 [==============================] - 0s 7ms/step - batch: 9.5000 - size: 1.0000 - loss: 0.1496 - acc: 0.9676\n",
      "Epoch 49/100\n",
      "20/20 [==============================] - 0s 5ms/step - batch: 9.5000 - size: 1.0000 - loss: 0.1520 - acc: 0.9647\n",
      "Epoch 50/100\n",
      "20/20 [==============================] - 0s 5ms/step - batch: 9.5000 - size: 1.0000 - loss: 0.1364 - acc: 0.9647\n",
      "Epoch 51/100\n",
      "20/20 [==============================] - 0s 5ms/step - batch: 9.5000 - size: 1.0000 - loss: 0.1345 - acc: 0.9647\n",
      "Epoch 52/100\n",
      "20/20 [==============================] - 0s 5ms/step - batch: 9.5000 - size: 1.0000 - loss: 0.1537 - acc: 0.9637\n",
      "Epoch 53/100\n",
      "20/20 [==============================] - 0s 6ms/step - batch: 9.5000 - size: 1.0000 - loss: 0.1520 - acc: 0.9627\n",
      "Epoch 54/100\n",
      "20/20 [==============================] - 0s 6ms/step - batch: 9.5000 - size: 1.0000 - loss: 0.1404 - acc: 0.9667\n",
      "Epoch 55/100\n",
      "20/20 [==============================] - 0s 5ms/step - batch: 9.5000 - size: 1.0000 - loss: 0.1465 - acc: 0.9569\n",
      "Epoch 56/100\n",
      "20/20 [==============================] - 0s 5ms/step - batch: 9.5000 - size: 1.0000 - loss: 0.1296 - acc: 0.9588\n",
      "Epoch 57/100\n",
      "20/20 [==============================] - 0s 5ms/step - batch: 9.5000 - size: 1.0000 - loss: 0.1496 - acc: 0.9676\n",
      "Epoch 58/100\n",
      "20/20 [==============================] - 0s 5ms/step - batch: 9.5000 - size: 1.0000 - loss: 0.1185 - acc: 0.9706\n",
      "Epoch 59/100\n",
      "20/20 [==============================] - 0s 7ms/step - batch: 9.5000 - size: 1.0000 - loss: 0.1143 - acc: 0.9725\n",
      "Epoch 60/100\n",
      "20/20 [==============================] - 0s 7ms/step - batch: 9.5000 - size: 1.0000 - loss: 0.1043 - acc: 0.9775\n",
      "Epoch 61/100\n",
      "20/20 [==============================] - 0s 7ms/step - batch: 9.5000 - size: 1.0000 - loss: 0.1346 - acc: 0.9696\n",
      "Epoch 62/100\n",
      "20/20 [==============================] - 0s 6ms/step - batch: 9.5000 - size: 1.0000 - loss: 0.1184 - acc: 0.9716\n",
      "Epoch 63/100\n",
      "20/20 [==============================] - 0s 5ms/step - batch: 9.5000 - size: 1.0000 - loss: 0.1273 - acc: 0.9716\n",
      "Epoch 64/100\n"
     ]
    },
    {
     "name": "stdout",
     "output_type": "stream",
     "text": [
      "20/20 [==============================] - 0s 5ms/step - batch: 9.5000 - size: 1.0000 - loss: 0.1213 - acc: 0.9686\n",
      "Epoch 65/100\n",
      "20/20 [==============================] - 0s 7ms/step - batch: 9.5000 - size: 1.0000 - loss: 0.1146 - acc: 0.9676\n",
      "Epoch 66/100\n",
      "20/20 [==============================] - 0s 6ms/step - batch: 9.5000 - size: 1.0000 - loss: 0.1132 - acc: 0.9686\n",
      "Epoch 67/100\n",
      "20/20 [==============================] - 0s 5ms/step - batch: 9.5000 - size: 1.0000 - loss: 0.1184 - acc: 0.9686\n",
      "Epoch 68/100\n",
      "20/20 [==============================] - 0s 4ms/step - batch: 9.5000 - size: 1.0000 - loss: 0.1114 - acc: 0.9686\n",
      "Epoch 69/100\n",
      "20/20 [==============================] - 0s 6ms/step - batch: 9.5000 - size: 1.0000 - loss: 0.1024 - acc: 0.9716\n",
      "Epoch 70/100\n",
      "20/20 [==============================] - 0s 5ms/step - batch: 9.5000 - size: 1.0000 - loss: 0.1012 - acc: 0.9755\n",
      "Epoch 71/100\n",
      "20/20 [==============================] - 0s 5ms/step - batch: 9.5000 - size: 1.0000 - loss: 0.0983 - acc: 0.9735\n",
      "Epoch 72/100\n",
      "20/20 [==============================] - 0s 4ms/step - batch: 9.5000 - size: 1.0000 - loss: 0.0931 - acc: 0.9804\n",
      "Epoch 73/100\n",
      "20/20 [==============================] - 0s 6ms/step - batch: 9.5000 - size: 1.0000 - loss: 0.1077 - acc: 0.9755\n",
      "Epoch 74/100\n",
      "20/20 [==============================] - 0s 4ms/step - batch: 9.5000 - size: 1.0000 - loss: 0.1025 - acc: 0.9725\n",
      "Epoch 75/100\n",
      "20/20 [==============================] - 0s 5ms/step - batch: 9.5000 - size: 1.0000 - loss: 0.1028 - acc: 0.9784\n",
      "Epoch 76/100\n",
      "20/20 [==============================] - 0s 5ms/step - batch: 9.5000 - size: 1.0000 - loss: 0.0965 - acc: 0.9745\n",
      "Epoch 77/100\n",
      "20/20 [==============================] - 0s 5ms/step - batch: 9.5000 - size: 1.0000 - loss: 0.0874 - acc: 0.9794\n",
      "Epoch 78/100\n",
      "20/20 [==============================] - 0s 4ms/step - batch: 9.5000 - size: 1.0000 - loss: 0.0839 - acc: 0.9765\n",
      "Epoch 79/100\n",
      "20/20 [==============================] - 0s 5ms/step - batch: 9.5000 - size: 1.0000 - loss: 0.0934 - acc: 0.9725\n",
      "Epoch 80/100\n",
      "20/20 [==============================] - 0s 4ms/step - batch: 9.5000 - size: 1.0000 - loss: 0.1106 - acc: 0.9667\n",
      "Epoch 81/100\n",
      "20/20 [==============================] - 0s 6ms/step - batch: 9.5000 - size: 1.0000 - loss: 0.0660 - acc: 0.9843\n",
      "Epoch 82/100\n",
      "20/20 [==============================] - 0s 4ms/step - batch: 9.5000 - size: 1.0000 - loss: 0.0891 - acc: 0.9804\n",
      "Epoch 83/100\n",
      "20/20 [==============================] - 0s 4ms/step - batch: 9.5000 - size: 1.0000 - loss: 0.1029 - acc: 0.9696\n",
      "Epoch 84/100\n",
      "20/20 [==============================] - 0s 5ms/step - batch: 9.5000 - size: 1.0000 - loss: 0.0763 - acc: 0.9814\n",
      "Epoch 85/100\n",
      "20/20 [==============================] - 0s 5ms/step - batch: 9.5000 - size: 1.0000 - loss: 0.0977 - acc: 0.9706\n",
      "Epoch 86/100\n",
      "20/20 [==============================] - 0s 5ms/step - batch: 9.5000 - size: 1.0000 - loss: 0.0876 - acc: 0.9794\n",
      "Epoch 87/100\n",
      "20/20 [==============================] - 0s 4ms/step - batch: 9.5000 - size: 1.0000 - loss: 0.0879 - acc: 0.9775\n",
      "Epoch 88/100\n",
      "20/20 [==============================] - 0s 4ms/step - batch: 9.5000 - size: 1.0000 - loss: 0.0793 - acc: 0.9765\n",
      "Epoch 89/100\n",
      "20/20 [==============================] - 0s 5ms/step - batch: 9.5000 - size: 1.0000 - loss: 0.0794 - acc: 0.9784\n",
      "Epoch 90/100\n",
      "20/20 [==============================] - 0s 4ms/step - batch: 9.5000 - size: 1.0000 - loss: 0.0743 - acc: 0.9794\n",
      "Epoch 91/100\n",
      "20/20 [==============================] - 0s 5ms/step - batch: 9.5000 - size: 1.0000 - loss: 0.0737 - acc: 0.9843\n",
      "Epoch 92/100\n",
      "20/20 [==============================] - 0s 4ms/step - batch: 9.5000 - size: 1.0000 - loss: 0.0809 - acc: 0.9794\n",
      "Epoch 93/100\n",
      "20/20 [==============================] - 0s 4ms/step - batch: 9.5000 - size: 1.0000 - loss: 0.0890 - acc: 0.9735\n",
      "Epoch 94/100\n",
      "20/20 [==============================] - 0s 5ms/step - batch: 9.5000 - size: 1.0000 - loss: 0.0661 - acc: 0.9833\n",
      "Epoch 95/100\n",
      "20/20 [==============================] - 0s 5ms/step - batch: 9.5000 - size: 1.0000 - loss: 0.0609 - acc: 0.9863\n",
      "Epoch 96/100\n",
      "20/20 [==============================] - 0s 5ms/step - batch: 9.5000 - size: 1.0000 - loss: 0.0603 - acc: 0.9843\n",
      "Epoch 97/100\n",
      "20/20 [==============================] - 0s 4ms/step - batch: 9.5000 - size: 1.0000 - loss: 0.0681 - acc: 0.9833\n",
      "Epoch 98/100\n",
      "20/20 [==============================] - 0s 5ms/step - batch: 9.5000 - size: 1.0000 - loss: 0.0727 - acc: 0.9804\n",
      "Epoch 99/100\n",
      "20/20 [==============================] - 0s 5ms/step - batch: 9.5000 - size: 1.0000 - loss: 0.0723 - acc: 0.9804\n",
      "Epoch 100/100\n",
      "20/20 [==============================] - 0s 5ms/step - batch: 9.5000 - size: 1.0000 - loss: 0.0678 - acc: 0.9814\n",
      "model created\n"
     ]
    }
   ],
   "source": [
    "sgd = SGD(lr=0.01, decay=1e-6, momentum=0.9, nesterov=True)\n",
    "model.compile(loss='categorical_crossentropy', optimizer=sgd, metrics=['accuracy'])\n",
    "hist = model.fit(tf.constant(train_x), tf.constant(train_y),\n",
    "                 epochs=100, batch_size=32, verbose=1, \n",
    "                steps_per_epoch=20)\n",
    "model.save('chatbot_model.h5', hist)\n",
    "model.save('model.tflearn', hist)\n",
    "print(\"model created\")"
   ]
  },
  {
   "cell_type": "code",
   "execution_count": 11,
   "id": "79365870",
   "metadata": {},
   "outputs": [
    {
     "name": "stdout",
     "output_type": "stream",
     "text": [
      "WARNING:tensorflow:FOR KERAS USERS: The object that you are saving contains one or more Keras models or layers. If you are loading the SavedModel with `tf.keras.models.load_model`, continue reading (otherwise, you may ignore the following instructions). Please change your code to save with `tf.keras.models.save_model` or `model.save`, and confirm that the file \"keras.metadata\" exists in the export directory. In the future, Keras will only load the SavedModels that have this file. In other words, `tf.saved_model.save` will no longer write SavedModels that can be recovered as Keras models (this will apply in TF 2.5).\n",
      "\n",
      "FOR DEVS: If you are overwriting _tracking_metadata in your class, this property has been used to save metadata in the SavedModel. The metadata field will be deprecated soon, so please move the metadata to a different file.\n",
      "INFO:tensorflow:Assets written to: /tmp/saved_model/1/assets\n"
     ]
    },
    {
     "name": "stderr",
     "output_type": "stream",
     "text": [
      "WARNING:absl:Invoking the TF1 implementation of TFLiteConverter because eager is disabled. Consider enabling eager.\n"
     ]
    },
    {
     "name": "stdout",
     "output_type": "stream",
     "text": [
      "WARNING:tensorflow:From c:\\users\\noeroel nabilah\\appdata\\local\\programs\\python\\python38\\lib\\site-packages\\tensorflow\\lite\\python\\convert_saved_model.py:63: load (from tensorflow.python.saved_model.loader_impl) is deprecated and will be removed in a future version.\n",
      "Instructions for updating:\n",
      "This function will only be available through the v1 compatibility library as tf.compat.v1.saved_model.loader.load or tf.compat.v1.saved_model.load. There will be a new function for importing SavedModels in Tensorflow 2.0.\n"
     ]
    },
    {
     "name": "stderr",
     "output_type": "stream",
     "text": [
      "WARNING:tensorflow:From c:\\users\\noeroel nabilah\\appdata\\local\\programs\\python\\python38\\lib\\site-packages\\tensorflow\\lite\\python\\convert_saved_model.py:63: load (from tensorflow.python.saved_model.loader_impl) is deprecated and will be removed in a future version.\n",
      "Instructions for updating:\n",
      "This function will only be available through the v1 compatibility library as tf.compat.v1.saved_model.loader.load or tf.compat.v1.saved_model.load. There will be a new function for importing SavedModels in Tensorflow 2.0.\n"
     ]
    },
    {
     "name": "stdout",
     "output_type": "stream",
     "text": [
      "INFO:tensorflow:Restoring parameters from /tmp/saved_model/1/variables\\variables\n"
     ]
    },
    {
     "name": "stderr",
     "output_type": "stream",
     "text": [
      "INFO:tensorflow:Restoring parameters from /tmp/saved_model/1/variables\\variables\n"
     ]
    },
    {
     "name": "stdout",
     "output_type": "stream",
     "text": [
      "INFO:tensorflow:The given SavedModel MetaGraphDef contains SignatureDefs with the following keys: {'serving_default', '__saved_model_init_op'}\n"
     ]
    },
    {
     "name": "stderr",
     "output_type": "stream",
     "text": [
      "INFO:tensorflow:The given SavedModel MetaGraphDef contains SignatureDefs with the following keys: {'serving_default', '__saved_model_init_op'}\n"
     ]
    },
    {
     "name": "stdout",
     "output_type": "stream",
     "text": [
      "INFO:tensorflow:input tensors info: \n"
     ]
    },
    {
     "name": "stderr",
     "output_type": "stream",
     "text": [
      "INFO:tensorflow:input tensors info: \n"
     ]
    },
    {
     "name": "stdout",
     "output_type": "stream",
     "text": [
      "INFO:tensorflow:Tensor's key in saved_model's tensor_map: dense_input\n"
     ]
    },
    {
     "name": "stderr",
     "output_type": "stream",
     "text": [
      "INFO:tensorflow:Tensor's key in saved_model's tensor_map: dense_input\n"
     ]
    },
    {
     "name": "stdout",
     "output_type": "stream",
     "text": [
      "INFO:tensorflow: tensor name: serving_default_dense_input:0, shape: (-1, 86), type: DT_FLOAT\n"
     ]
    },
    {
     "name": "stderr",
     "output_type": "stream",
     "text": [
      "INFO:tensorflow: tensor name: serving_default_dense_input:0, shape: (-1, 86), type: DT_FLOAT\n"
     ]
    },
    {
     "name": "stdout",
     "output_type": "stream",
     "text": [
      "INFO:tensorflow:output tensors info: \n"
     ]
    },
    {
     "name": "stderr",
     "output_type": "stream",
     "text": [
      "INFO:tensorflow:output tensors info: \n"
     ]
    },
    {
     "name": "stdout",
     "output_type": "stream",
     "text": [
      "INFO:tensorflow:Tensor's key in saved_model's tensor_map: dense_3\n"
     ]
    },
    {
     "name": "stderr",
     "output_type": "stream",
     "text": [
      "INFO:tensorflow:Tensor's key in saved_model's tensor_map: dense_3\n"
     ]
    },
    {
     "name": "stdout",
     "output_type": "stream",
     "text": [
      "INFO:tensorflow: tensor name: StatefulPartitionedCall:0, shape: (-1, 8), type: DT_FLOAT\n"
     ]
    },
    {
     "name": "stderr",
     "output_type": "stream",
     "text": [
      "INFO:tensorflow: tensor name: StatefulPartitionedCall:0, shape: (-1, 8), type: DT_FLOAT\n"
     ]
    },
    {
     "name": "stdout",
     "output_type": "stream",
     "text": [
      "INFO:tensorflow:Restoring parameters from /tmp/saved_model/1/variables\\variables\n"
     ]
    },
    {
     "name": "stderr",
     "output_type": "stream",
     "text": [
      "INFO:tensorflow:Restoring parameters from /tmp/saved_model/1/variables\\variables\n"
     ]
    },
    {
     "name": "stdout",
     "output_type": "stream",
     "text": [
      "WARNING:tensorflow:From c:\\users\\noeroel nabilah\\appdata\\local\\programs\\python\\python38\\lib\\site-packages\\tensorflow\\lite\\python\\util.py:299: convert_variables_to_constants (from tensorflow.python.framework.graph_util_impl) is deprecated and will be removed in a future version.\n",
      "Instructions for updating:\n",
      "Use `tf.compat.v1.graph_util.convert_variables_to_constants`\n"
     ]
    },
    {
     "name": "stderr",
     "output_type": "stream",
     "text": [
      "WARNING:tensorflow:From c:\\users\\noeroel nabilah\\appdata\\local\\programs\\python\\python38\\lib\\site-packages\\tensorflow\\lite\\python\\util.py:299: convert_variables_to_constants (from tensorflow.python.framework.graph_util_impl) is deprecated and will be removed in a future version.\n",
      "Instructions for updating:\n",
      "Use `tf.compat.v1.graph_util.convert_variables_to_constants`\n"
     ]
    },
    {
     "name": "stdout",
     "output_type": "stream",
     "text": [
      "WARNING:tensorflow:From c:\\users\\noeroel nabilah\\appdata\\local\\programs\\python\\python38\\lib\\site-packages\\tensorflow\\python\\framework\\convert_to_constants.py:863: extract_sub_graph (from tensorflow.python.framework.graph_util_impl) is deprecated and will be removed in a future version.\n",
      "Instructions for updating:\n",
      "Use `tf.compat.v1.graph_util.extract_sub_graph`\n"
     ]
    },
    {
     "name": "stderr",
     "output_type": "stream",
     "text": [
      "WARNING:tensorflow:From c:\\users\\noeroel nabilah\\appdata\\local\\programs\\python\\python38\\lib\\site-packages\\tensorflow\\python\\framework\\convert_to_constants.py:863: extract_sub_graph (from tensorflow.python.framework.graph_util_impl) is deprecated and will be removed in a future version.\n",
      "Instructions for updating:\n",
      "Use `tf.compat.v1.graph_util.extract_sub_graph`\n"
     ]
    },
    {
     "name": "stdout",
     "output_type": "stream",
     "text": [
      "INFO:tensorflow:Restoring parameters from /tmp/saved_model/1/variables\\variables\n"
     ]
    },
    {
     "name": "stderr",
     "output_type": "stream",
     "text": [
      "INFO:tensorflow:Restoring parameters from /tmp/saved_model/1/variables\\variables\n"
     ]
    },
    {
     "name": "stdout",
     "output_type": "stream",
     "text": [
      "INFO:tensorflow:The given SavedModel MetaGraphDef contains SignatureDefs with the following keys: {'serving_default', '__saved_model_init_op'}\n"
     ]
    },
    {
     "name": "stderr",
     "output_type": "stream",
     "text": [
      "INFO:tensorflow:The given SavedModel MetaGraphDef contains SignatureDefs with the following keys: {'serving_default', '__saved_model_init_op'}\n"
     ]
    },
    {
     "name": "stdout",
     "output_type": "stream",
     "text": [
      "INFO:tensorflow:input tensors info: \n"
     ]
    },
    {
     "name": "stderr",
     "output_type": "stream",
     "text": [
      "INFO:tensorflow:input tensors info: \n"
     ]
    },
    {
     "name": "stdout",
     "output_type": "stream",
     "text": [
      "INFO:tensorflow:Tensor's key in saved_model's tensor_map: dense_input\n"
     ]
    },
    {
     "name": "stderr",
     "output_type": "stream",
     "text": [
      "INFO:tensorflow:Tensor's key in saved_model's tensor_map: dense_input\n"
     ]
    },
    {
     "name": "stdout",
     "output_type": "stream",
     "text": [
      "INFO:tensorflow: tensor name: serving_default_dense_input:0, shape: (-1, 86), type: DT_FLOAT\n"
     ]
    },
    {
     "name": "stderr",
     "output_type": "stream",
     "text": [
      "INFO:tensorflow: tensor name: serving_default_dense_input:0, shape: (-1, 86), type: DT_FLOAT\n"
     ]
    },
    {
     "name": "stdout",
     "output_type": "stream",
     "text": [
      "INFO:tensorflow:output tensors info: \n"
     ]
    },
    {
     "name": "stderr",
     "output_type": "stream",
     "text": [
      "INFO:tensorflow:output tensors info: \n"
     ]
    },
    {
     "name": "stdout",
     "output_type": "stream",
     "text": [
      "INFO:tensorflow:Tensor's key in saved_model's tensor_map: dense_3\n"
     ]
    },
    {
     "name": "stderr",
     "output_type": "stream",
     "text": [
      "INFO:tensorflow:Tensor's key in saved_model's tensor_map: dense_3\n"
     ]
    },
    {
     "name": "stdout",
     "output_type": "stream",
     "text": [
      "INFO:tensorflow: tensor name: StatefulPartitionedCall:0, shape: (-1, 8), type: DT_FLOAT\n"
     ]
    },
    {
     "name": "stderr",
     "output_type": "stream",
     "text": [
      "INFO:tensorflow: tensor name: StatefulPartitionedCall:0, shape: (-1, 8), type: DT_FLOAT\n"
     ]
    },
    {
     "name": "stdout",
     "output_type": "stream",
     "text": [
      "INFO:tensorflow:Restoring parameters from /tmp/saved_model/1/variables\\variables\n"
     ]
    },
    {
     "name": "stderr",
     "output_type": "stream",
     "text": [
      "INFO:tensorflow:Restoring parameters from /tmp/saved_model/1/variables\\variables\n",
      "Use '@tf.function' or '@defun' to decorate the function.\n",
      "Use '@tf.function' or '@defun' to decorate the function.\n",
      "Use '@tf.function' or '@defun' to decorate the function.\n",
      "Use '@tf.function' or '@defun' to decorate the function.\n",
      "Use '@tf.function' or '@defun' to decorate the function.\n",
      "Use '@tf.function' or '@defun' to decorate the function.\n",
      "Use '@tf.function' or '@defun' to decorate the function.\n",
      "Use '@tf.function' or '@defun' to decorate the function.\n",
      "Use '@tf.function' or '@defun' to decorate the function.\n",
      "Use '@tf.function' or '@defun' to decorate the function.\n",
      "Use '@tf.function' or '@defun' to decorate the function.\n",
      "Use '@tf.function' or '@defun' to decorate the function.\n",
      "Use '@tf.function' or '@defun' to decorate the function.\n",
      "Use '@tf.function' or '@defun' to decorate the function.\n",
      "Use '@tf.function' or '@defun' to decorate the function.\n",
      "Use '@tf.function' or '@defun' to decorate the function.\n",
      "Use '@tf.function' or '@defun' to decorate the function.\n",
      "Use '@tf.function' or '@defun' to decorate the function.\n",
      "Use '@tf.function' or '@defun' to decorate the function.\n"
     ]
    },
    {
     "data": {
      "text/plain": [
       "90088"
      ]
     },
     "execution_count": 11,
     "metadata": {},
     "output_type": "execute_result"
    }
   ],
   "source": [
    "import pathlib\n",
    "tf.saved_model.save(model, '/tmp/saved_model/1/') #will be saved in dick C\n",
    "\n",
    "\n",
    "# import tensorflow.keras.backend\n",
    "# # Convert the model.\n",
    "# converter = tf.lite.TFLiteConverter.from_keras_model(model)\n",
    "# tflite_model = converter.convert()\n",
    "# model.save('/tmp/my_model', hist)\n",
    "converter = tf.lite.TFLiteConverter.from_saved_model('/tmp/saved_model/1/') # path to the SavedModel directory\n",
    "tflite_model = converter.convert()\n",
    "\n",
    "# # Save the model.\n",
    "# with open('model.tflite', 'wb') as f:\n",
    "#     f.write(tflite_model)\n",
    "\n",
    "tflite_model_file = pathlib.Path('/tmp/model.tflite')\n",
    "tflite_model_file.write_bytes(tflite_model)\n",
    "\n",
    "    "
   ]
  },
  {
   "cell_type": "code",
   "execution_count": 12,
   "id": "8ec618fe",
   "metadata": {},
   "outputs": [
    {
     "name": "stdout",
     "output_type": "stream",
     "text": [
      "Pickle is also Saved..........\n"
     ]
    }
   ],
   "source": [
    "print(\"Pickle is also Saved..........\")\n",
    "pickle.dump( {'words':words, 'classes':classes, 'train_x':train_x, 'train_y':train_y}, open( \"training_data\", \"wb\" ) )"
   ]
  },
  {
   "cell_type": "code",
   "execution_count": 16,
   "id": "775e6453",
   "metadata": {},
   "outputs": [
    {
     "name": "stdout",
     "output_type": "stream",
     "text": [
      "Loading Pickle.....\n",
      "WARNING:tensorflow:From c:\\users\\noeroel nabilah\\appdata\\local\\programs\\python\\python38\\lib\\site-packages\\tensorflow\\python\\ops\\init_ops.py:97: calling GlorotUniform.__init__ (from tensorflow.python.ops.init_ops) with dtype is deprecated and will be removed in a future version.\n",
      "Instructions for updating:\n",
      "Call initializer instance with the dtype argument instead of passing it to the constructor\n"
     ]
    },
    {
     "name": "stderr",
     "output_type": "stream",
     "text": [
      "WARNING:tensorflow:From c:\\users\\noeroel nabilah\\appdata\\local\\programs\\python\\python38\\lib\\site-packages\\tensorflow\\python\\ops\\init_ops.py:97: calling GlorotUniform.__init__ (from tensorflow.python.ops.init_ops) with dtype is deprecated and will be removed in a future version.\n",
      "Instructions for updating:\n",
      "Call initializer instance with the dtype argument instead of passing it to the constructor\n"
     ]
    },
    {
     "name": "stdout",
     "output_type": "stream",
     "text": [
      "WARNING:tensorflow:From c:\\users\\noeroel nabilah\\appdata\\local\\programs\\python\\python38\\lib\\site-packages\\tensorflow\\python\\ops\\init_ops.py:97: calling Zeros.__init__ (from tensorflow.python.ops.init_ops) with dtype is deprecated and will be removed in a future version.\n",
      "Instructions for updating:\n",
      "Call initializer instance with the dtype argument instead of passing it to the constructor\n"
     ]
    },
    {
     "name": "stderr",
     "output_type": "stream",
     "text": [
      "WARNING:tensorflow:From c:\\users\\noeroel nabilah\\appdata\\local\\programs\\python\\python38\\lib\\site-packages\\tensorflow\\python\\ops\\init_ops.py:97: calling Zeros.__init__ (from tensorflow.python.ops.init_ops) with dtype is deprecated and will be removed in a future version.\n",
      "Instructions for updating:\n",
      "Call initializer instance with the dtype argument instead of passing it to the constructor\n"
     ]
    },
    {
     "name": "stdout",
     "output_type": "stream",
     "text": [
      "Model: \"sequential\"\n",
      "_________________________________________________________________\n",
      "Layer (type)                 Output Shape              Param #   \n",
      "=================================================================\n",
      "dense (Dense)                (None, 128)               11136     \n",
      "_________________________________________________________________\n",
      "dropout (Dropout)            (None, 128)               0         \n",
      "_________________________________________________________________\n",
      "dense_1 (Dense)              (None, 64)                8256      \n",
      "_________________________________________________________________\n",
      "dropout_1 (Dropout)          (None, 64)                0         \n",
      "_________________________________________________________________\n",
      "dense_2 (Dense)              (None, 32)                2080      \n",
      "_________________________________________________________________\n",
      "dropout_2 (Dropout)          (None, 32)                0         \n",
      "_________________________________________________________________\n",
      "dense_3 (Dense)              (None, 8)                 264       \n",
      "=================================================================\n",
      "Total params: 21,736\n",
      "Trainable params: 21,736\n",
      "Non-trainable params: 0\n",
      "_________________________________________________________________\n"
     ]
    }
   ],
   "source": [
    "print(\"Loading Pickle.....\")\n",
    "data = pickle.load( open( \"training_data\", \"rb\" ) )\n",
    "words = data['words']\n",
    "classes = data['classes']\n",
    "train_x = data['train_x']\n",
    "train_y = data['train_y']\n",
    "\n",
    "\n",
    "with open('intents.json') as json_data:\n",
    "    intents = json.load(json_data)\n",
    "    \n",
    "# load our saved model\n",
    "# model.load('./model.tflearn')\n",
    "\n",
    "# Recreate the exact same model, including its weights and the optimizer\n",
    "new_model = tf.keras.models.load_model('chatbot_model.h5')\n",
    "\n",
    "# Show the model architecture\n",
    "new_model.summary()"
   ]
  },
  {
   "cell_type": "code",
   "execution_count": 17,
   "id": "e6f1f3df",
   "metadata": {},
   "outputs": [
    {
     "name": "stdout",
     "output_type": "stream",
     "text": [
      "ERROR_THRESHOLD = 0.25\n"
     ]
    }
   ],
   "source": [
    "def clean_up_sentence(sentence):\n",
    "    # It Tokenize or Break it into the constituents parts of Sentense.\n",
    "    sentence_words = nltk.word_tokenize(sentence)\n",
    "    # Stemming means to find the root of the word.\n",
    "    sentence_words = [stemmer.stem(word.lower()) for word in sentence_words]\n",
    "    return sentence_words\n",
    "\n",
    "# Return the Array of Bag of Words: True or False and 0 or 1 for each word of bag that exists in the Sentence\n",
    "def bow(sentence, words, show_details=False):\n",
    "    sentence_words = clean_up_sentence(sentence)\n",
    "    bag = [0]*len(words)\n",
    "    for s in sentence_words:\n",
    "        for i,w in enumerate(words):\n",
    "            if w == s:\n",
    "                bag[i] = 1\n",
    "                if show_details:\n",
    "                    print (\"found in bag: %s\" % w)\n",
    "    return(np.array(bag))\n",
    "\n",
    "ERROR_THRESHOLD = 0.25\n",
    "print(\"ERROR_THRESHOLD = 0.25\")\n",
    "\n",
    "def classify(sentence):\n",
    "    # Prediction or To Get the Posibility or Probability from the Model\n",
    "    results = model.predict([bow(sentence, words)])[0]\n",
    "    # Exclude those results which are Below Threshold\n",
    "    results = [[i,r] for i,r in enumerate(results) if r>ERROR_THRESHOLD]\n",
    "    # Sorting is Done because heigher Confidence Answer comes first.\n",
    "    results.sort(key=lambda x: x[1], reverse=True)\n",
    "    return_list = []\n",
    "    for r in results:\n",
    "        return_list.append((classes[r[0]], r[1])) #Tuppl -> Intent and Probability\n",
    "    return return_list\n",
    "\n",
    "def response(sentence, userID='123', show_details=False):\n",
    "    results = classify(sentence)\n",
    "    # That Means if Classification is Done then Find the Matching Tag.\n",
    "    if results:\n",
    "        # Long Loop to get the Result.\n",
    "        while results:\n",
    "            for i in intents['intents']:\n",
    "                # Tag Finding\n",
    "                if i['tag'] == results[0][0]:\n",
    "                    # Random Response from High Order Probabilities\n",
    "                    return print(random.choice(i['responses']))\n",
    "\n",
    "            results.pop(0)"
   ]
  },
  {
   "cell_type": "code",
   "execution_count": 18,
   "id": "9133f228",
   "metadata": {},
   "outputs": [
    {
     "name": "stdout",
     "output_type": "stream",
     "text": [
      "Hai, hari yang indah\n",
      "Perkenalkan, saya Zassy. Chatbot pribadi anda\n",
      "Ada yang bisa saya bantu?\n",
      "You : hai\n"
     ]
    },
    {
     "ename": "ValueError",
     "evalue": "Error when checking input: expected dense_input to have shape (86,) but got array with shape (1,)",
     "output_type": "error",
     "traceback": [
      "\u001b[1;31m---------------------------------------------------------------------------\u001b[0m",
      "\u001b[1;31mValueError\u001b[0m                                Traceback (most recent call last)",
      "\u001b[1;32m<ipython-input-18-56156abd3881>\u001b[0m in \u001b[0;36m<module>\u001b[1;34m\u001b[0m\n\u001b[0;32m      9\u001b[0m     \u001b[1;32mif\u001b[0m \u001b[0minput_data\u001b[0m\u001b[1;33m.\u001b[0m\u001b[0mlower\u001b[0m\u001b[1;33m(\u001b[0m\u001b[1;33m)\u001b[0m\u001b[1;33m==\u001b[0m \u001b[1;34m\"quit\"\u001b[0m \u001b[1;33m:\u001b[0m\u001b[1;33m\u001b[0m\u001b[1;33m\u001b[0m\u001b[0m\n\u001b[0;32m     10\u001b[0m         \u001b[1;32mbreak\u001b[0m\u001b[1;33m\u001b[0m\u001b[1;33m\u001b[0m\u001b[0m\n\u001b[1;32m---> 11\u001b[1;33m     \u001b[0manswer\u001b[0m \u001b[1;33m=\u001b[0m \u001b[0mresponse\u001b[0m\u001b[1;33m(\u001b[0m\u001b[0minput_data\u001b[0m\u001b[1;33m)\u001b[0m\u001b[1;33m\u001b[0m\u001b[1;33m\u001b[0m\u001b[0m\n\u001b[0m\u001b[0;32m     12\u001b[0m     \u001b[0manswer\u001b[0m\u001b[1;33m\u001b[0m\u001b[1;33m\u001b[0m\u001b[0m\n",
      "\u001b[1;32m<ipython-input-17-8362292eb8b2>\u001b[0m in \u001b[0;36mresponse\u001b[1;34m(sentence, userID, show_details)\u001b[0m\n\u001b[0;32m     34\u001b[0m \u001b[1;33m\u001b[0m\u001b[0m\n\u001b[0;32m     35\u001b[0m \u001b[1;32mdef\u001b[0m \u001b[0mresponse\u001b[0m\u001b[1;33m(\u001b[0m\u001b[0msentence\u001b[0m\u001b[1;33m,\u001b[0m \u001b[0muserID\u001b[0m\u001b[1;33m=\u001b[0m\u001b[1;34m'123'\u001b[0m\u001b[1;33m,\u001b[0m \u001b[0mshow_details\u001b[0m\u001b[1;33m=\u001b[0m\u001b[1;32mFalse\u001b[0m\u001b[1;33m)\u001b[0m\u001b[1;33m:\u001b[0m\u001b[1;33m\u001b[0m\u001b[1;33m\u001b[0m\u001b[0m\n\u001b[1;32m---> 36\u001b[1;33m     \u001b[0mresults\u001b[0m \u001b[1;33m=\u001b[0m \u001b[0mclassify\u001b[0m\u001b[1;33m(\u001b[0m\u001b[0msentence\u001b[0m\u001b[1;33m)\u001b[0m\u001b[1;33m\u001b[0m\u001b[1;33m\u001b[0m\u001b[0m\n\u001b[0m\u001b[0;32m     37\u001b[0m     \u001b[1;31m# That Means if Classification is Done then Find the Matching Tag.\u001b[0m\u001b[1;33m\u001b[0m\u001b[1;33m\u001b[0m\u001b[1;33m\u001b[0m\u001b[0m\n\u001b[0;32m     38\u001b[0m     \u001b[1;32mif\u001b[0m \u001b[0mresults\u001b[0m\u001b[1;33m:\u001b[0m\u001b[1;33m\u001b[0m\u001b[1;33m\u001b[0m\u001b[0m\n",
      "\u001b[1;32m<ipython-input-17-8362292eb8b2>\u001b[0m in \u001b[0;36mclassify\u001b[1;34m(sentence)\u001b[0m\n\u001b[0;32m     23\u001b[0m \u001b[1;32mdef\u001b[0m \u001b[0mclassify\u001b[0m\u001b[1;33m(\u001b[0m\u001b[0msentence\u001b[0m\u001b[1;33m)\u001b[0m\u001b[1;33m:\u001b[0m\u001b[1;33m\u001b[0m\u001b[1;33m\u001b[0m\u001b[0m\n\u001b[0;32m     24\u001b[0m     \u001b[1;31m# Prediction or To Get the Posibility or Probability from the Model\u001b[0m\u001b[1;33m\u001b[0m\u001b[1;33m\u001b[0m\u001b[1;33m\u001b[0m\u001b[0m\n\u001b[1;32m---> 25\u001b[1;33m     \u001b[0mresults\u001b[0m \u001b[1;33m=\u001b[0m \u001b[0mmodel\u001b[0m\u001b[1;33m.\u001b[0m\u001b[0mpredict\u001b[0m\u001b[1;33m(\u001b[0m\u001b[1;33m[\u001b[0m\u001b[0mbow\u001b[0m\u001b[1;33m(\u001b[0m\u001b[0msentence\u001b[0m\u001b[1;33m,\u001b[0m \u001b[0mwords\u001b[0m\u001b[1;33m)\u001b[0m\u001b[1;33m]\u001b[0m\u001b[1;33m)\u001b[0m\u001b[1;33m[\u001b[0m\u001b[1;36m0\u001b[0m\u001b[1;33m]\u001b[0m\u001b[1;33m\u001b[0m\u001b[1;33m\u001b[0m\u001b[0m\n\u001b[0m\u001b[0;32m     26\u001b[0m     \u001b[1;31m# Exclude those results which are Below Threshold\u001b[0m\u001b[1;33m\u001b[0m\u001b[1;33m\u001b[0m\u001b[1;33m\u001b[0m\u001b[0m\n\u001b[0;32m     27\u001b[0m     \u001b[0mresults\u001b[0m \u001b[1;33m=\u001b[0m \u001b[1;33m[\u001b[0m\u001b[1;33m[\u001b[0m\u001b[0mi\u001b[0m\u001b[1;33m,\u001b[0m\u001b[0mr\u001b[0m\u001b[1;33m]\u001b[0m \u001b[1;32mfor\u001b[0m \u001b[0mi\u001b[0m\u001b[1;33m,\u001b[0m\u001b[0mr\u001b[0m \u001b[1;32min\u001b[0m \u001b[0menumerate\u001b[0m\u001b[1;33m(\u001b[0m\u001b[0mresults\u001b[0m\u001b[1;33m)\u001b[0m \u001b[1;32mif\u001b[0m \u001b[0mr\u001b[0m\u001b[1;33m>\u001b[0m\u001b[0mERROR_THRESHOLD\u001b[0m\u001b[1;33m]\u001b[0m\u001b[1;33m\u001b[0m\u001b[1;33m\u001b[0m\u001b[0m\n",
      "\u001b[1;32mc:\\users\\noeroel nabilah\\appdata\\local\\programs\\python\\python38\\lib\\site-packages\\tensorflow\\python\\keras\\engine\\training_v1.py\u001b[0m in \u001b[0;36mpredict\u001b[1;34m(self, x, batch_size, verbose, steps, callbacks, max_queue_size, workers, use_multiprocessing)\u001b[0m\n\u001b[0;32m    986\u001b[0m \u001b[1;33m\u001b[0m\u001b[0m\n\u001b[0;32m    987\u001b[0m     \u001b[0mfunc\u001b[0m \u001b[1;33m=\u001b[0m \u001b[0mself\u001b[0m\u001b[1;33m.\u001b[0m\u001b[0m_select_training_loop\u001b[0m\u001b[1;33m(\u001b[0m\u001b[0mx\u001b[0m\u001b[1;33m)\u001b[0m\u001b[1;33m\u001b[0m\u001b[1;33m\u001b[0m\u001b[0m\n\u001b[1;32m--> 988\u001b[1;33m     return func.predict(\n\u001b[0m\u001b[0;32m    989\u001b[0m         \u001b[0mself\u001b[0m\u001b[1;33m,\u001b[0m\u001b[1;33m\u001b[0m\u001b[1;33m\u001b[0m\u001b[0m\n\u001b[0;32m    990\u001b[0m         \u001b[0mx\u001b[0m\u001b[1;33m=\u001b[0m\u001b[0mx\u001b[0m\u001b[1;33m,\u001b[0m\u001b[1;33m\u001b[0m\u001b[1;33m\u001b[0m\u001b[0m\n",
      "\u001b[1;32mc:\\users\\noeroel nabilah\\appdata\\local\\programs\\python\\python38\\lib\\site-packages\\tensorflow\\python\\keras\\engine\\training_arrays_v1.py\u001b[0m in \u001b[0;36mpredict\u001b[1;34m(self, model, x, batch_size, verbose, steps, callbacks, **kwargs)\u001b[0m\n\u001b[0;32m    699\u001b[0m               **kwargs):\n\u001b[0;32m    700\u001b[0m     \u001b[0mbatch_size\u001b[0m \u001b[1;33m=\u001b[0m \u001b[0mmodel\u001b[0m\u001b[1;33m.\u001b[0m\u001b[0m_validate_or_infer_batch_size\u001b[0m\u001b[1;33m(\u001b[0m\u001b[0mbatch_size\u001b[0m\u001b[1;33m,\u001b[0m \u001b[0msteps\u001b[0m\u001b[1;33m,\u001b[0m \u001b[0mx\u001b[0m\u001b[1;33m)\u001b[0m\u001b[1;33m\u001b[0m\u001b[1;33m\u001b[0m\u001b[0m\n\u001b[1;32m--> 701\u001b[1;33m     x, _, _ = model._standardize_user_data(\n\u001b[0m\u001b[0;32m    702\u001b[0m         x, check_steps=True, steps_name='steps', steps=steps)\n\u001b[0;32m    703\u001b[0m     return predict_loop(\n",
      "\u001b[1;32mc:\\users\\noeroel nabilah\\appdata\\local\\programs\\python\\python38\\lib\\site-packages\\tensorflow\\python\\keras\\engine\\training_v1.py\u001b[0m in \u001b[0;36m_standardize_user_data\u001b[1;34m(self, x, y, sample_weight, class_weight, batch_size, check_steps, steps_name, steps, validation_split, shuffle, extract_tensors_from_dataset)\u001b[0m\n\u001b[0;32m   2345\u001b[0m       \u001b[1;32mreturn\u001b[0m \u001b[1;33m[\u001b[0m\u001b[1;33m]\u001b[0m\u001b[1;33m,\u001b[0m \u001b[1;33m[\u001b[0m\u001b[1;33m]\u001b[0m\u001b[1;33m,\u001b[0m \u001b[1;32mNone\u001b[0m\u001b[1;33m\u001b[0m\u001b[1;33m\u001b[0m\u001b[0m\n\u001b[0;32m   2346\u001b[0m \u001b[1;33m\u001b[0m\u001b[0m\n\u001b[1;32m-> 2347\u001b[1;33m     return self._standardize_tensors(\n\u001b[0m\u001b[0;32m   2348\u001b[0m         \u001b[0mx\u001b[0m\u001b[1;33m,\u001b[0m \u001b[0my\u001b[0m\u001b[1;33m,\u001b[0m \u001b[0msample_weight\u001b[0m\u001b[1;33m,\u001b[0m\u001b[1;33m\u001b[0m\u001b[1;33m\u001b[0m\u001b[0m\n\u001b[0;32m   2349\u001b[0m         \u001b[0mrun_eagerly\u001b[0m\u001b[1;33m=\u001b[0m\u001b[0mrun_eagerly\u001b[0m\u001b[1;33m,\u001b[0m\u001b[1;33m\u001b[0m\u001b[1;33m\u001b[0m\u001b[0m\n",
      "\u001b[1;32mc:\\users\\noeroel nabilah\\appdata\\local\\programs\\python\\python38\\lib\\site-packages\\tensorflow\\python\\keras\\engine\\training_v1.py\u001b[0m in \u001b[0;36m_standardize_tensors\u001b[1;34m(self, x, y, sample_weight, run_eagerly, dict_inputs, is_dataset, class_weight, batch_size)\u001b[0m\n\u001b[0;32m   2373\u001b[0m     \u001b[1;32mif\u001b[0m \u001b[1;32mnot\u001b[0m \u001b[0misinstance\u001b[0m\u001b[1;33m(\u001b[0m\u001b[0mx\u001b[0m\u001b[1;33m,\u001b[0m \u001b[1;33m(\u001b[0m\u001b[0mdataset_ops\u001b[0m\u001b[1;33m.\u001b[0m\u001b[0mDatasetV1\u001b[0m\u001b[1;33m,\u001b[0m \u001b[0mdataset_ops\u001b[0m\u001b[1;33m.\u001b[0m\u001b[0mDatasetV2\u001b[0m\u001b[1;33m)\u001b[0m\u001b[1;33m)\u001b[0m\u001b[1;33m:\u001b[0m\u001b[1;33m\u001b[0m\u001b[1;33m\u001b[0m\u001b[0m\n\u001b[0;32m   2374\u001b[0m       \u001b[1;31m# TODO(fchollet): run static checks with dataset output shape(s).\u001b[0m\u001b[1;33m\u001b[0m\u001b[1;33m\u001b[0m\u001b[1;33m\u001b[0m\u001b[0m\n\u001b[1;32m-> 2375\u001b[1;33m       x = training_utils_v1.standardize_input_data(\n\u001b[0m\u001b[0;32m   2376\u001b[0m           \u001b[0mx\u001b[0m\u001b[1;33m,\u001b[0m\u001b[1;33m\u001b[0m\u001b[1;33m\u001b[0m\u001b[0m\n\u001b[0;32m   2377\u001b[0m           \u001b[0mfeed_input_names\u001b[0m\u001b[1;33m,\u001b[0m\u001b[1;33m\u001b[0m\u001b[1;33m\u001b[0m\u001b[0m\n",
      "\u001b[1;32mc:\\users\\noeroel nabilah\\appdata\\local\\programs\\python\\python38\\lib\\site-packages\\tensorflow\\python\\keras\\engine\\training_utils_v1.py\u001b[0m in \u001b[0;36mstandardize_input_data\u001b[1;34m(data, names, shapes, check_batch_axis, exception_prefix)\u001b[0m\n\u001b[0;32m    661\u001b[0m         \u001b[1;32mfor\u001b[0m \u001b[0mdim\u001b[0m\u001b[1;33m,\u001b[0m \u001b[0mref_dim\u001b[0m \u001b[1;32min\u001b[0m \u001b[0mzip\u001b[0m\u001b[1;33m(\u001b[0m\u001b[0mdata_shape\u001b[0m\u001b[1;33m,\u001b[0m \u001b[0mshape\u001b[0m\u001b[1;33m)\u001b[0m\u001b[1;33m:\u001b[0m\u001b[1;33m\u001b[0m\u001b[1;33m\u001b[0m\u001b[0m\n\u001b[0;32m    662\u001b[0m           \u001b[1;32mif\u001b[0m \u001b[0mref_dim\u001b[0m \u001b[1;33m!=\u001b[0m \u001b[0mdim\u001b[0m \u001b[1;32mand\u001b[0m \u001b[0mref_dim\u001b[0m \u001b[1;32mis\u001b[0m \u001b[1;32mnot\u001b[0m \u001b[1;32mNone\u001b[0m \u001b[1;32mand\u001b[0m \u001b[0mdim\u001b[0m \u001b[1;32mis\u001b[0m \u001b[1;32mnot\u001b[0m \u001b[1;32mNone\u001b[0m\u001b[1;33m:\u001b[0m\u001b[1;33m\u001b[0m\u001b[1;33m\u001b[0m\u001b[0m\n\u001b[1;32m--> 663\u001b[1;33m             raise ValueError('Error when checking ' + exception_prefix +\n\u001b[0m\u001b[0;32m    664\u001b[0m                              \u001b[1;34m': expected '\u001b[0m \u001b[1;33m+\u001b[0m \u001b[0mnames\u001b[0m\u001b[1;33m[\u001b[0m\u001b[0mi\u001b[0m\u001b[1;33m]\u001b[0m \u001b[1;33m+\u001b[0m \u001b[1;34m' to have shape '\u001b[0m \u001b[1;33m+\u001b[0m\u001b[1;33m\u001b[0m\u001b[1;33m\u001b[0m\u001b[0m\n\u001b[0;32m    665\u001b[0m                              \u001b[0mstr\u001b[0m\u001b[1;33m(\u001b[0m\u001b[0mshape\u001b[0m\u001b[1;33m)\u001b[0m \u001b[1;33m+\u001b[0m \u001b[1;34m' but got array with shape '\u001b[0m \u001b[1;33m+\u001b[0m\u001b[1;33m\u001b[0m\u001b[1;33m\u001b[0m\u001b[0m\n",
      "\u001b[1;31mValueError\u001b[0m: Error when checking input: expected dense_input to have shape (86,) but got array with shape (1,)"
     ]
    }
   ],
   "source": [
    "from time import sleep\n",
    "print(\"Hai, hari yang indah\")\n",
    "sleep(0.5)\n",
    "print(\"Perkenalkan, saya Zassy. Chatbot pribadi anda\")\n",
    "sleep(0.5)\n",
    "print(\"Ada yang bisa saya bantu?\")\n",
    "while True:\n",
    "    input_data = input(\"You : \")\n",
    "    if input_data.lower()== \"quit\" :\n",
    "        break\n",
    "    answer = response(input_data)\n",
    "    answer"
   ]
  },
  {
   "cell_type": "code",
   "execution_count": null,
   "id": "9e8901c0",
   "metadata": {},
   "outputs": [],
   "source": []
  }
 ],
 "metadata": {
  "kernelspec": {
   "display_name": "Python 3",
   "language": "python",
   "name": "python3"
  },
  "language_info": {
   "codemirror_mode": {
    "name": "ipython",
    "version": 3
   },
   "file_extension": ".py",
   "mimetype": "text/x-python",
   "name": "python",
   "nbconvert_exporter": "python",
   "pygments_lexer": "ipython3",
   "version": "3.8.10"
  }
 },
 "nbformat": 4,
 "nbformat_minor": 5
}
